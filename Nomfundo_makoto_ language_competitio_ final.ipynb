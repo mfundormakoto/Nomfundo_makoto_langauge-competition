{
 "cells": [
  {
   "cell_type": "markdown",
   "metadata": {},
   "source": [
    "# ADVCANCED CLASSIFICATION EXAM"
   ]
  },
  {
   "cell_type": "markdown",
   "metadata": {},
   "source": [
    "© Explore Data Science Academy"
   ]
  },
  {
   "cell_type": "markdown",
   "metadata": {},
   "source": [
    "Honour Code I Nomfundo Makoto, confirm - by submitting this document - that the solutions in this notebook are a result of my own work and that I abide by the EDSA honour code.\n",
    "\n",
    "Non-compliance with the honour code constitutes a material breach of contract."
   ]
  },
  {
   "cell_type": "markdown",
   "metadata": {},
   "source": [
    "# Predict Overview: Language Identification"
   ]
  },
  {
   "cell_type": "markdown",
   "metadata": {},
   "source": [
    "South Africa is a multicultural society that is characterised by its rich linguistic diversity. Language is an indispensable tool that can be used to deepen democracy and also contribute to the social, cultural, intellectual, economic and political life of the South African society. With such a multilingual population, it is only obvious that our systems and devices also communicate in multi-languages.\n",
    "\n",
    "In this challenge, you will take text which is in any of South Africa's 11 Official languages and identify which language the text is in. This is an example of NLP's Language Identification, the task of determining the natural language that a piece of text is written in."
   ]
  },
  {
   "cell_type": "markdown",
   "metadata": {},
   "source": [
    "# Problem Statement"
   ]
  },
  {
   "cell_type": "markdown",
   "metadata": {},
   "source": [
    "In this challenge, you will take text which is in any of South Africa's 11 Official languages and identify which language the text is in. This is an example of NLP's Language Identification, the task of determining the natural language that a piece of text is written in."
   ]
  },
  {
   "cell_type": "markdown",
   "metadata": {},
   "source": [
    "# Data overview"
   ]
  },
  {
   "cell_type": "markdown",
   "metadata": {},
   "source": [
    "There are 11 official languages in this country, all of which are given equal recognition. The majority of South Africans speak two or more of the official languages and are multilingual. "
   ]
  },
  {
   "cell_type": "markdown",
   "metadata": {},
   "source": [
    "# Table of Contents"
   ]
  },
  {
   "cell_type": "markdown",
   "metadata": {},
   "source": [
    "1. Importing Packages\n",
    "\n",
    "\n",
    "2. Loading Data\n",
    "\n",
    "\n",
    "3. Data Engineering\n",
    "\n",
    "\n",
    "4. Exploratory Data Analysis (EDA)\n",
    "\n",
    "\n",
    "5. Modeling\n",
    "\n",
    "\n",
    "6. Model Performance\n",
    "\n"
   ]
  },
  {
   "cell_type": "markdown",
   "metadata": {},
   "source": [
    "# 1. Importing Packages"
   ]
  },
  {
   "cell_type": "markdown",
   "metadata": {},
   "source": [
    "Back to Table of Contents"
   ]
  },
  {
   "cell_type": "markdown",
   "metadata": {},
   "source": [
    "⚡ Description: Importing Packages ⚡"
   ]
  },
  {
   "cell_type": "markdown",
   "metadata": {},
   "source": [
    "Github link. https://github.com/mfundormakoto\n",
    "kaggle username: Nomfundo Makoto"
   ]
  },
  {
   "cell_type": "code",
   "execution_count": 152,
   "metadata": {},
   "outputs": [],
   "source": [
    "import pandas as pd\n",
    "import numpy as np\n",
    "import re\n",
    "import seaborn as sns\n",
    "import matplotlib.pyplot as plt\n",
    "import warnings\n",
    "warnings.simplefilter(\"ignore\")\n",
    "\n",
    "\n",
    "from sklearn.model_selection import train_test_split\n",
    "\n",
    " \n",
    "from sklearn.metrics import accuracy_score, confusion_matrix, classification_report\n",
    "from sklearn.linear_model import LogisticRegression\n",
    "from sklearn.svm import LinearSVC\n",
    "from sklearn.naive_bayes import BernoulliNB\n",
    "from sklearn.ensemble import GradientBoostingClassifier\n",
    "from sklearn.ensemble import RandomForestClassifier\n",
    "from sklearn.tree import DecisionTreeClassifier\n",
    "from sklearn.model_selection import train_test_split\n",
    "from sklearn.linear_model import *\n",
    "from sklearn.pipeline import make_pipeline\n",
    "from sklearn.preprocessing import RobustScaler\n",
    "from sklearn.metrics import * \n",
    "from sklearn.kernel_ridge import KernelRidge\n",
    "from sklearn.svm import SVR\n",
    "from sklearn import svm\n",
    "from sklearn.ensemble import RandomForestRegressor"
   ]
  },
  {
   "cell_type": "code",
   "execution_count": 153,
   "metadata": {},
   "outputs": [
    {
     "name": "stderr",
     "output_type": "stream",
     "text": [
      "UsageError: Line magic function `%pip3` not found.\n"
     ]
    }
   ],
   "source": [
    "%pip3 install comet_ml"
   ]
  },
  {
   "cell_type": "code",
   "execution_count": 154,
   "metadata": {},
   "outputs": [
    {
     "name": "stderr",
     "output_type": "stream",
     "text": [
      "COMET WARNING: Comet has disabled auto-logging functionality as it has been imported after the following ML modules: sklearn. Metrics and hyperparameters can still be logged using comet_ml.log_metrics() and comet_ml.log_parameters()\n",
      "COMET WARNING: As you are running in a Jupyter environment, you will need to call `experiment.end()` when finished to ensure all metrics and code are logged before exiting.\n",
      "COMET INFO: Couldn't find a Git repository in 'C:\\\\Users\\\\27815\\\\Desktop\\\\kaggle hackerthon\\\\train_set.csv' nor in any parent directory. You can override where Comet is looking for a Git Patch by setting the configuration `COMET_GIT_DIRECTORY`\n",
      "COMET INFO: Experiment is live on comet.ml https://www.comet.ml/015khai/https-github-com-015khai-south-african-language-identification-hack-2022/0dc6a04c930e4765bd3aafa3058d6af3\n",
      "\n"
     ]
    }
   ],
   "source": [
    "# import comet_ml at the top of your file\n",
    "from comet_ml import Experiment\n",
    "\n",
    "# Create an experiment with your api key\n",
    "experiment = Experiment(\n",
    "    api_key=\"HYdfgoXNArV4k1itZsL1ykmiD\",\n",
    "    project_name=\"https-github-com-015khai-south-african-language-identification-hack-2022\",\n",
    "    workspace=\"015khai\",\n",
    ")"
   ]
  },
  {
   "cell_type": "code",
   "execution_count": 155,
   "metadata": {},
   "outputs": [],
   "source": [
    "def read_file(path):\n",
    "    '''This function reads the csv file given and displays the first five rows'''\n",
    "    data = pd.read_csv(path)\n",
    "\n",
    "    return data"
   ]
  },
  {
   "cell_type": "markdown",
   "metadata": {},
   "source": [
    "# 2. Loading the Data\n",
    "\n",
    "Back to Table of Contents"
   ]
  },
  {
   "cell_type": "code",
   "execution_count": 156,
   "metadata": {},
   "outputs": [],
   "source": [
    "# Load train data\n",
    "train_df = pd.read_csv('train_df.csv')\n",
    "\n",
    "# Load test data\n",
    "test_df = pd.read_csv('test_df.csv')"
   ]
  },
  {
   "cell_type": "markdown",
   "metadata": {},
   "source": [
    "# 3. Exploratory Data Analysis (EDA)\n",
    "\n",
    "Back to Table of Contents"
   ]
  },
  {
   "cell_type": "markdown",
   "metadata": {},
   "source": [
    "⚡ Description: Exploratory data analysis ⚡"
   ]
  },
  {
   "cell_type": "markdown",
   "metadata": {},
   "source": [
    "3.1 Inspecting the Dataframes\n",
    "We are going to look at the data before we do further explorotary analysis"
   ]
  },
  {
   "cell_type": "code",
   "execution_count": 157,
   "metadata": {},
   "outputs": [
    {
     "data": {
      "text/html": [
       "<div>\n",
       "<style scoped>\n",
       "    .dataframe tbody tr th:only-of-type {\n",
       "        vertical-align: middle;\n",
       "    }\n",
       "\n",
       "    .dataframe tbody tr th {\n",
       "        vertical-align: top;\n",
       "    }\n",
       "\n",
       "    .dataframe thead th {\n",
       "        text-align: right;\n",
       "    }\n",
       "</style>\n",
       "<table border=\"1\" class=\"dataframe\">\n",
       "  <thead>\n",
       "    <tr style=\"text-align: right;\">\n",
       "      <th></th>\n",
       "      <th>lang_id</th>\n",
       "      <th>text</th>\n",
       "    </tr>\n",
       "  </thead>\n",
       "  <tbody>\n",
       "    <tr>\n",
       "      <th>0</th>\n",
       "      <td>xho</td>\n",
       "      <td>umgaqo-siseko wenza amalungiselelo kumaziko ax...</td>\n",
       "    </tr>\n",
       "    <tr>\n",
       "      <th>1</th>\n",
       "      <td>xho</td>\n",
       "      <td>i-dha iya kuba nobulumko bokubeka umsebenzi na...</td>\n",
       "    </tr>\n",
       "    <tr>\n",
       "      <th>2</th>\n",
       "      <td>eng</td>\n",
       "      <td>the province of kwazulu-natal department of tr...</td>\n",
       "    </tr>\n",
       "    <tr>\n",
       "      <th>3</th>\n",
       "      <td>nso</td>\n",
       "      <td>o netefatša gore o ba file dilo ka moka tše le...</td>\n",
       "    </tr>\n",
       "    <tr>\n",
       "      <th>4</th>\n",
       "      <td>ven</td>\n",
       "      <td>khomishini ya ndinganyiso ya mbeu yo ewa maana...</td>\n",
       "    </tr>\n",
       "  </tbody>\n",
       "</table>\n",
       "</div>"
      ],
      "text/plain": [
       "  lang_id                                               text\n",
       "0     xho  umgaqo-siseko wenza amalungiselelo kumaziko ax...\n",
       "1     xho  i-dha iya kuba nobulumko bokubeka umsebenzi na...\n",
       "2     eng  the province of kwazulu-natal department of tr...\n",
       "3     nso  o netefatša gore o ba file dilo ka moka tše le...\n",
       "4     ven  khomishini ya ndinganyiso ya mbeu yo ewa maana..."
      ]
     },
     "execution_count": 157,
     "metadata": {},
     "output_type": "execute_result"
    }
   ],
   "source": [
    "#displaying the first rows\n",
    "train_df.head()"
   ]
  },
  {
   "cell_type": "code",
   "execution_count": 158,
   "metadata": {},
   "outputs": [
    {
     "data": {
      "text/plain": [
       "1       1\n",
       "3818    1\n",
       "3794    1\n",
       "3793    1\n",
       "3792    1\n",
       "       ..\n",
       "1893    1\n",
       "1892    1\n",
       "1891    1\n",
       "1890    1\n",
       "5682    1\n",
       "Name: index, Length: 5682, dtype: int64"
      ]
     },
     "execution_count": 158,
     "metadata": {},
     "output_type": "execute_result"
    }
   ],
   "source": [
    "test_df[\"index\"].value_counts()"
   ]
  },
  {
   "cell_type": "code",
   "execution_count": 159,
   "metadata": {},
   "outputs": [
    {
     "data": {
      "text/html": [
       "<div>\n",
       "<style scoped>\n",
       "    .dataframe tbody tr th:only-of-type {\n",
       "        vertical-align: middle;\n",
       "    }\n",
       "\n",
       "    .dataframe tbody tr th {\n",
       "        vertical-align: top;\n",
       "    }\n",
       "\n",
       "    .dataframe thead th {\n",
       "        text-align: right;\n",
       "    }\n",
       "</style>\n",
       "<table border=\"1\" class=\"dataframe\">\n",
       "  <thead>\n",
       "    <tr style=\"text-align: right;\">\n",
       "      <th></th>\n",
       "      <th>index</th>\n",
       "      <th>text</th>\n",
       "    </tr>\n",
       "  </thead>\n",
       "  <tbody>\n",
       "    <tr>\n",
       "      <th>0</th>\n",
       "      <td>1</td>\n",
       "      <td>Mmasepala, fa maemo a a kgethegileng a letlele...</td>\n",
       "    </tr>\n",
       "    <tr>\n",
       "      <th>1</th>\n",
       "      <td>2</td>\n",
       "      <td>Uzakwaziswa ngokufaneleko nakungafuneka eminye...</td>\n",
       "    </tr>\n",
       "    <tr>\n",
       "      <th>2</th>\n",
       "      <td>3</td>\n",
       "      <td>Tshivhumbeo tshi fana na ngano dza vhathu.</td>\n",
       "    </tr>\n",
       "    <tr>\n",
       "      <th>3</th>\n",
       "      <td>4</td>\n",
       "      <td>Kube inja nelikati betingevakala kutsi titsini...</td>\n",
       "    </tr>\n",
       "    <tr>\n",
       "      <th>4</th>\n",
       "      <td>5</td>\n",
       "      <td>Winste op buitelandse valuta.</td>\n",
       "    </tr>\n",
       "  </tbody>\n",
       "</table>\n",
       "</div>"
      ],
      "text/plain": [
       "   index                                               text\n",
       "0      1  Mmasepala, fa maemo a a kgethegileng a letlele...\n",
       "1      2  Uzakwaziswa ngokufaneleko nakungafuneka eminye...\n",
       "2      3         Tshivhumbeo tshi fana na ngano dza vhathu.\n",
       "3      4  Kube inja nelikati betingevakala kutsi titsini...\n",
       "4      5                      Winste op buitelandse valuta."
      ]
     },
     "execution_count": 159,
     "metadata": {},
     "output_type": "execute_result"
    }
   ],
   "source": [
    "test_df.head()"
   ]
  },
  {
   "cell_type": "code",
   "execution_count": 160,
   "metadata": {},
   "outputs": [
    {
     "data": {
      "text/plain": [
       "xho    3000\n",
       "eng    3000\n",
       "nso    3000\n",
       "ven    3000\n",
       "tsn    3000\n",
       "nbl    3000\n",
       "zul    3000\n",
       "ssw    3000\n",
       "tso    3000\n",
       "sot    3000\n",
       "afr    3000\n",
       "Name: lang_id, dtype: int64"
      ]
     },
     "execution_count": 160,
     "metadata": {},
     "output_type": "execute_result"
    }
   ],
   "source": [
    "train_df[\"lang_id\"].value_counts() # There are 11 languages and 3000 sentenses in each category"
   ]
  },
  {
   "cell_type": "code",
   "execution_count": 161,
   "metadata": {},
   "outputs": [
    {
     "name": "stdout",
     "output_type": "stream",
     "text": [
      "<class 'pandas.core.frame.DataFrame'>\n",
      "RangeIndex: 33000 entries, 0 to 32999\n",
      "Data columns (total 2 columns):\n",
      " #   Column   Non-Null Count  Dtype \n",
      "---  ------   --------------  ----- \n",
      " 0   lang_id  33000 non-null  object\n",
      " 1   text     33000 non-null  object\n",
      "dtypes: object(2)\n",
      "memory usage: 515.8+ KB\n"
     ]
    }
   ],
   "source": [
    "# Verifying the data types and establishing if there are null values\n",
    "train_df.info()"
   ]
  },
  {
   "cell_type": "code",
   "execution_count": 162,
   "metadata": {},
   "outputs": [
    {
     "data": {
      "text/plain": [
       "0    umgaqo-siseko wenza amalungiselelo kumaziko ax...\n",
       "1    i-dha iya kuba nobulumko bokubeka umsebenzi na...\n",
       "2    the province of kwazulu-natal department of tr...\n",
       "3    o netefatša gore o ba file dilo ka moka tše le...\n",
       "4    khomishini ya ndinganyiso ya mbeu yo ewa maana...\n",
       "Name: text, dtype: object"
      ]
     },
     "execution_count": 162,
     "metadata": {},
     "output_type": "execute_result"
    }
   ],
   "source": [
    "# Establishing if the semntenses have stop words\n",
    "train_df['text'][0:5]"
   ]
  },
  {
   "cell_type": "markdown",
   "metadata": {},
   "source": [
    "# 4. Analysis of the Language Distribution in the Dataset and Histogram\n",
    "\n",
    "⚡ Description: language distribution ⚡\n",
    "\n",
    "   Back to Table of Contents"
   ]
  },
  {
   "cell_type": "code",
   "execution_count": 163,
   "metadata": {},
   "outputs": [],
   "source": [
    "X = train_df['text']\n",
    "y = train_df['lang_id']"
   ]
  },
  {
   "cell_type": "code",
   "execution_count": 164,
   "metadata": {},
   "outputs": [],
   "source": [
    "Xhosa = train_df[y == \"xho\"]\n",
    "English = train_df[y == \"eng\"]\n",
    "Nso = train_df[y == \"nso\"]\n",
    "Venda = train_df[y == \"ven\"]\n",
    "Tswana = train_df[y == \"tsn\"]\n",
    "Ndebele = train_df[y == \"nbl\"]\n",
    "Zulu = train_df[y == \"zul\"]\n",
    "Swati = train_df[y == \"ssw\"]\n",
    "Tsonga = train_df[y == \"tso\"]\n",
    "Sotho = train_df[y == \"sot\"]\n",
    "Afrikaans = train_df[y == \"afr\"]"
   ]
  },
  {
   "cell_type": "code",
   "execution_count": 165,
   "metadata": {},
   "outputs": [
    {
     "data": {
      "image/png": "[encoded data removed]",
      "text/plain": [
       "<Figure size 936x648 with 1 Axes>"
      ]
     },
     "metadata": {
      "needs_background": "light"
     },
     "output_type": "display_data"
    }
   ],
   "source": [
    "plt.figure(figsize=(13,9))\n",
    "labels = y.unique()\n",
    "heights = [len(Xhosa),len(English),len(Nso),len(Venda), len(Tswana), len(Ndebele), len(Zulu), len(Swati), len(Tsonga), len(Sotho), len(Afrikaans)]\n",
    "plt.bar(labels,heights,color= [\"red\", \"blue\", \"orange\", \"green\", \"yellow\", \"black\", \"pink\", \"brown\", \"purple\", \"pink\", \"grey\"])\n",
    "plt.xticks(labels,['Xhosa', 'English', 'Nso', 'Venda', 'Tswana', 'Ndebele', 'Zulu', 'Swati', 'Tsonga', 'Sotho', 'Afrikaans'])\n",
    "plt.ylabel(\"No of Observations\")\n",
    "plt.title(\"The Official Languages Of South Africa\", fontsize = 24)\n",
    "plt.ylabel(\"Number Of Words In Language\", fontsize = 24)\n",
    "plt.xticks(labels,['Xhosa', 'English', 'Nso', 'Venda', 'Tswana', 'Ndebele', 'Zulu', 'Swati', 'Tsonga', 'Sotho', 'Afrikaans'], fontsize = 15)\n",
    "plt.show()"
   ]
  },
  {
   "cell_type": "markdown",
   "metadata": {},
   "source": [
    "# 5. Analysis of the language distribution in the dataset and pie chart\n",
    "\n",
    "Back to Table of Contents"
   ]
  },
  {
   "cell_type": "code",
   "execution_count": 166,
   "metadata": {},
   "outputs": [
    {
     "name": "stdout",
     "output_type": "stream",
     "text": [
      "13.9\n",
      "13.9\n"
     ]
    },
    {
     "data": {
      "text/plain": [
       "<AxesSubplot:ylabel='lang_id'>"
      ]
     },
     "execution_count": 166,
     "metadata": {},
     "output_type": "execute_result"
    },
    {
     "data": {
      "image/png": "[encoded data removed]",
      "text/plain": [
       "<Figure size 1000.8x1000.8 with 1 Axes>"
      ]
     },
     "metadata": {},
     "output_type": "display_data"
    }
   ],
   "source": [
    "plot_size = plt.rcParams[\"figure.figsize\"] \n",
    "print(plot_size[0]) \n",
    "print(plot_size[1])\n",
    "\n",
    "plot_size[0] = 13.9\n",
    "plot_size[1] = 13.9\n",
    "plt.rcParams[\"figure.figsize\"] = plot_size \n",
    "\n",
    "#  distribution of sentenses from the dataset\n",
    "train_set.lang_id.value_counts().plot(kind='pie', autopct='%1.0f%%')"
   ]
  },
  {
   "cell_type": "markdown",
   "metadata": {},
   "source": [
    "#  HEATMAP"
   ]
  },
  {
   "cell_type": "code",
   "execution_count": 167,
   "metadata": {},
   "outputs": [
    {
     "data": {
      "image/png": "[encoded data removed]",
      "text/plain": [
       "<Figure size 1000.8x1000.8 with 2 Axes>"
      ]
     },
     "metadata": {
      "needs_background": "light"
     },
     "output_type": "display_data"
    }
   ],
   "source": [
    "heatmap = sns.heatmap(train_set.corr(), vmin=-1, vmax=1, annot=True)\n",
    "heatmap.set_title('Correlation Heatmap', fontdict={'fontsize':13.9}, pad=12);"
   ]
  },
  {
   "cell_type": "code",
   "execution_count": 168,
   "metadata": {},
   "outputs": [
    {
     "data": {
      "text/html": [
       "<style type=\"text/css\">\n",
       "#T_01818_row0_col1, #T_01818_row0_col2, #T_01818_row1_col1, #T_01818_row1_col2, #T_01818_row2_col1, #T_01818_row2_col2, #T_01818_row3_col1, #T_01818_row3_col2, #T_01818_row4_col1, #T_01818_row4_col2, #T_01818_row5_col1, #T_01818_row5_col2, #T_01818_row6_col1, #T_01818_row6_col2, #T_01818_row7_col1, #T_01818_row7_col2, #T_01818_row8_col1, #T_01818_row8_col2, #T_01818_row9_col1, #T_01818_row9_col2, #T_01818_row10_col1, #T_01818_row10_col2 {\n",
       "  background-color: #bde7db;\n",
       "  color: #000000;\n",
       "}\n",
       "</style>\n",
       "<table id=\"T_01818_\">\n",
       "  <thead>\n",
       "    <tr>\n",
       "      <th class=\"blank level0\" >&nbsp;</th>\n",
       "      <th class=\"col_heading level0 col0\" >lang_id</th>\n",
       "      <th class=\"col_heading level0 col1\" >text</th>\n",
       "      <th class=\"col_heading level0 col2\" >percentage</th>\n",
       "    </tr>\n",
       "  </thead>\n",
       "  <tbody>\n",
       "    <tr>\n",
       "      <th id=\"T_01818_level0_row0\" class=\"row_heading level0 row0\" >0</th>\n",
       "      <td id=\"T_01818_row0_col0\" class=\"data row0 col0\" >afr</td>\n",
       "      <td id=\"T_01818_row0_col1\" class=\"data row0 col1\" >3000</td>\n",
       "      <td id=\"T_01818_row0_col2\" class=\"data row0 col2\" >9.090000</td>\n",
       "    </tr>\n",
       "    <tr>\n",
       "      <th id=\"T_01818_level0_row1\" class=\"row_heading level0 row1\" >1</th>\n",
       "      <td id=\"T_01818_row1_col0\" class=\"data row1 col0\" >eng</td>\n",
       "      <td id=\"T_01818_row1_col1\" class=\"data row1 col1\" >3000</td>\n",
       "      <td id=\"T_01818_row1_col2\" class=\"data row1 col2\" >9.090000</td>\n",
       "    </tr>\n",
       "    <tr>\n",
       "      <th id=\"T_01818_level0_row2\" class=\"row_heading level0 row2\" >2</th>\n",
       "      <td id=\"T_01818_row2_col0\" class=\"data row2 col0\" >nbl</td>\n",
       "      <td id=\"T_01818_row2_col1\" class=\"data row2 col1\" >3000</td>\n",
       "      <td id=\"T_01818_row2_col2\" class=\"data row2 col2\" >9.090000</td>\n",
       "    </tr>\n",
       "    <tr>\n",
       "      <th id=\"T_01818_level0_row3\" class=\"row_heading level0 row3\" >3</th>\n",
       "      <td id=\"T_01818_row3_col0\" class=\"data row3 col0\" >nso</td>\n",
       "      <td id=\"T_01818_row3_col1\" class=\"data row3 col1\" >3000</td>\n",
       "      <td id=\"T_01818_row3_col2\" class=\"data row3 col2\" >9.090000</td>\n",
       "    </tr>\n",
       "    <tr>\n",
       "      <th id=\"T_01818_level0_row4\" class=\"row_heading level0 row4\" >4</th>\n",
       "      <td id=\"T_01818_row4_col0\" class=\"data row4 col0\" >sot</td>\n",
       "      <td id=\"T_01818_row4_col1\" class=\"data row4 col1\" >3000</td>\n",
       "      <td id=\"T_01818_row4_col2\" class=\"data row4 col2\" >9.090000</td>\n",
       "    </tr>\n",
       "    <tr>\n",
       "      <th id=\"T_01818_level0_row5\" class=\"row_heading level0 row5\" >5</th>\n",
       "      <td id=\"T_01818_row5_col0\" class=\"data row5 col0\" >ssw</td>\n",
       "      <td id=\"T_01818_row5_col1\" class=\"data row5 col1\" >3000</td>\n",
       "      <td id=\"T_01818_row5_col2\" class=\"data row5 col2\" >9.090000</td>\n",
       "    </tr>\n",
       "    <tr>\n",
       "      <th id=\"T_01818_level0_row6\" class=\"row_heading level0 row6\" >6</th>\n",
       "      <td id=\"T_01818_row6_col0\" class=\"data row6 col0\" >tsn</td>\n",
       "      <td id=\"T_01818_row6_col1\" class=\"data row6 col1\" >3000</td>\n",
       "      <td id=\"T_01818_row6_col2\" class=\"data row6 col2\" >9.090000</td>\n",
       "    </tr>\n",
       "    <tr>\n",
       "      <th id=\"T_01818_level0_row7\" class=\"row_heading level0 row7\" >7</th>\n",
       "      <td id=\"T_01818_row7_col0\" class=\"data row7 col0\" >tso</td>\n",
       "      <td id=\"T_01818_row7_col1\" class=\"data row7 col1\" >3000</td>\n",
       "      <td id=\"T_01818_row7_col2\" class=\"data row7 col2\" >9.090000</td>\n",
       "    </tr>\n",
       "    <tr>\n",
       "      <th id=\"T_01818_level0_row8\" class=\"row_heading level0 row8\" >8</th>\n",
       "      <td id=\"T_01818_row8_col0\" class=\"data row8 col0\" >ven</td>\n",
       "      <td id=\"T_01818_row8_col1\" class=\"data row8 col1\" >3000</td>\n",
       "      <td id=\"T_01818_row8_col2\" class=\"data row8 col2\" >9.090000</td>\n",
       "    </tr>\n",
       "    <tr>\n",
       "      <th id=\"T_01818_level0_row9\" class=\"row_heading level0 row9\" >9</th>\n",
       "      <td id=\"T_01818_row9_col0\" class=\"data row9 col0\" >xho</td>\n",
       "      <td id=\"T_01818_row9_col1\" class=\"data row9 col1\" >3000</td>\n",
       "      <td id=\"T_01818_row9_col2\" class=\"data row9 col2\" >9.090000</td>\n",
       "    </tr>\n",
       "    <tr>\n",
       "      <th id=\"T_01818_level0_row10\" class=\"row_heading level0 row10\" >10</th>\n",
       "      <td id=\"T_01818_row10_col0\" class=\"data row10 col0\" >zul</td>\n",
       "      <td id=\"T_01818_row10_col1\" class=\"data row10 col1\" >3000</td>\n",
       "      <td id=\"T_01818_row10_col2\" class=\"data row10 col2\" >9.090000</td>\n",
       "    </tr>\n",
       "  </tbody>\n",
       "</table>\n"
      ],
      "text/plain": [
       "<pandas.io.formats.style.Styler at 0x1e9d6bc9b20>"
      ]
     },
     "execution_count": 168,
     "metadata": {},
     "output_type": "execute_result"
    }
   ],
   "source": [
    "temp = train_df.groupby('lang_id').count()['text'].reset_index().sort_values(by='text',ascending=False)\n",
    "temp['percentage'] = round((temp['text']/temp['text'].sum())*100,2) #checking for tweet sentiment percetage\n",
    "temp.style.background_gradient(cmap='icefire')"
   ]
  },
  {
   "cell_type": "code",
   "execution_count": 169,
   "metadata": {},
   "outputs": [
    {
     "data": {
      "text/plain": [
       "<AxesSubplot:title={'center':'Density curve'}, xlabel='text', ylabel='Density'>"
      ]
     },
     "execution_count": 169,
     "metadata": {},
     "output_type": "execute_result"
    },
    {
     "data": {
      "image/png": "[encoded data removed]",
      "text/plain": [
       "<Figure size 792x648 with 1 Axes>"
      ]
     },
     "metadata": {
      "needs_background": "light"
     },
     "output_type": "display_data"
    }
   ],
   "source": [
    "plt.figure(figsize=(11,9))\n",
    "length = train_df[\"text\"].str.len()\n",
    "plt.title(\"Density curve\", fontsize = 24)\n",
    "plt.xlabel(\"text\", fontsize = 24)\n",
    "plt.ylabel(\"Density\", fontsize = 24)\n",
    "sns.kdeplot(length)"
   ]
  },
  {
   "cell_type": "markdown",
   "metadata": {},
   "source": [
    "# 6. Feature Engineering\n",
    "\n",
    "Classifying the independent and dependent variables\n",
    "\n",
    "Back to Table of Contents"
   ]
  },
  {
   "cell_type": "markdown",
   "metadata": {},
   "source": [
    "⚡ Description: feature ⚡"
   ]
  },
  {
   "cell_type": "code",
   "execution_count": 170,
   "metadata": {},
   "outputs": [],
   "source": [
    "X = train_df[\"text\"] #text data is the independent variable of the training set\n",
    "y = train_df[\"lang_id\"] #lang_id is the dependent variable of the training set\n",
    "X_t = test_df['text'] #text data is the independent variable of the test set"
   ]
  },
  {
   "cell_type": "markdown",
   "metadata": {},
   "source": [
    "# Text Preprocessing\n",
    "\n",
    "Cleaning our dataset to remove symbols that will determine the quality of our model."
   ]
  },
  {
   "cell_type": "code",
   "execution_count": 171,
   "metadata": {},
   "outputs": [],
   "source": [
    "# Make text lowercase        \n",
    "text = str(train_df[\"text\"]).lower()\n",
    "\n",
    "import re\n",
    "import string\n",
    "def cleaning(text):\n",
    "\n",
    "# remove @user, #word and link\n",
    "    text = ' '.join(re.sub(\"(@[A-Za-z0-9]+)|(#[A-Za-z0-9]+)|([^0-9A-Za-z \\t])|(\\w+:\\/\\/\\S+)\",\" \",text).split())\n",
    "# remove punctuation    \n",
    "    text = re.sub('<.*?>+', '', text)\n",
    "    text = re.sub('[%s]' % re.escape(string.punctuation), '', text) \n",
    "    text = re.sub('\\n', '', text)\n",
    "# remove numbers    \n",
    "    text = ''.join([i for i in text[:] if not i.isdigit()])\n",
    "    return text\n",
    "\n",
    "train_df['clean_text']=train_df['text'].apply(lambda x: cleaning(x))\n",
    "test_df['clean_text']=test_df['text'].apply(lambda x: cleaning(x))"
   ]
  },
  {
   "cell_type": "code",
   "execution_count": 172,
   "metadata": {},
   "outputs": [
    {
     "data": {
      "text/html": [
       "<div>\n",
       "<style scoped>\n",
       "    .dataframe tbody tr th:only-of-type {\n",
       "        vertical-align: middle;\n",
       "    }\n",
       "\n",
       "    .dataframe tbody tr th {\n",
       "        vertical-align: top;\n",
       "    }\n",
       "\n",
       "    .dataframe thead th {\n",
       "        text-align: right;\n",
       "    }\n",
       "</style>\n",
       "<table border=\"1\" class=\"dataframe\">\n",
       "  <thead>\n",
       "    <tr style=\"text-align: right;\">\n",
       "      <th></th>\n",
       "      <th>lang_id</th>\n",
       "      <th>text</th>\n",
       "      <th>clean_text</th>\n",
       "    </tr>\n",
       "  </thead>\n",
       "  <tbody>\n",
       "    <tr>\n",
       "      <th>0</th>\n",
       "      <td>xho</td>\n",
       "      <td>umgaqo-siseko wenza amalungiselelo kumaziko ax...</td>\n",
       "      <td>umgaqo siseko wenza amalungiselelo kumaziko ax...</td>\n",
       "    </tr>\n",
       "    <tr>\n",
       "      <th>1</th>\n",
       "      <td>xho</td>\n",
       "      <td>i-dha iya kuba nobulumko bokubeka umsebenzi na...</td>\n",
       "      <td>i dha iya kuba nobulumko bokubeka umsebenzi na...</td>\n",
       "    </tr>\n",
       "    <tr>\n",
       "      <th>2</th>\n",
       "      <td>eng</td>\n",
       "      <td>the province of kwazulu-natal department of tr...</td>\n",
       "      <td>the province of kwazulu natal department of tr...</td>\n",
       "    </tr>\n",
       "    <tr>\n",
       "      <th>3</th>\n",
       "      <td>nso</td>\n",
       "      <td>o netefatša gore o ba file dilo ka moka tše le...</td>\n",
       "      <td>o netefat a gore o ba file dilo ka moka t e le...</td>\n",
       "    </tr>\n",
       "    <tr>\n",
       "      <th>4</th>\n",
       "      <td>ven</td>\n",
       "      <td>khomishini ya ndinganyiso ya mbeu yo ewa maana...</td>\n",
       "      <td>khomishini ya ndinganyiso ya mbeu yo ewa maana...</td>\n",
       "    </tr>\n",
       "  </tbody>\n",
       "</table>\n",
       "</div>"
      ],
      "text/plain": [
       "  lang_id                                               text  \\\n",
       "0     xho  umgaqo-siseko wenza amalungiselelo kumaziko ax...   \n",
       "1     xho  i-dha iya kuba nobulumko bokubeka umsebenzi na...   \n",
       "2     eng  the province of kwazulu-natal department of tr...   \n",
       "3     nso  o netefatša gore o ba file dilo ka moka tše le...   \n",
       "4     ven  khomishini ya ndinganyiso ya mbeu yo ewa maana...   \n",
       "\n",
       "                                          clean_text  \n",
       "0  umgaqo siseko wenza amalungiselelo kumaziko ax...  \n",
       "1  i dha iya kuba nobulumko bokubeka umsebenzi na...  \n",
       "2  the province of kwazulu natal department of tr...  \n",
       "3  o netefat a gore o ba file dilo ka moka t e le...  \n",
       "4  khomishini ya ndinganyiso ya mbeu yo ewa maana...  "
      ]
     },
     "execution_count": 172,
     "metadata": {},
     "output_type": "execute_result"
    }
   ],
   "source": [
    "#Let's observe our progress thus far\n",
    "train_df.head()"
   ]
  },
  {
   "cell_type": "code",
   "execution_count": 173,
   "metadata": {},
   "outputs": [
    {
     "data": {
      "text/html": [
       "<div>\n",
       "<style scoped>\n",
       "    .dataframe tbody tr th:only-of-type {\n",
       "        vertical-align: middle;\n",
       "    }\n",
       "\n",
       "    .dataframe tbody tr th {\n",
       "        vertical-align: top;\n",
       "    }\n",
       "\n",
       "    .dataframe thead th {\n",
       "        text-align: right;\n",
       "    }\n",
       "</style>\n",
       "<table border=\"1\" class=\"dataframe\">\n",
       "  <thead>\n",
       "    <tr style=\"text-align: right;\">\n",
       "      <th></th>\n",
       "      <th>index</th>\n",
       "      <th>text</th>\n",
       "      <th>clean_text</th>\n",
       "    </tr>\n",
       "  </thead>\n",
       "  <tbody>\n",
       "    <tr>\n",
       "      <th>0</th>\n",
       "      <td>1</td>\n",
       "      <td>Mmasepala, fa maemo a a kgethegileng a letlele...</td>\n",
       "      <td>Mmasepala fa maemo a a kgethegileng a letlelel...</td>\n",
       "    </tr>\n",
       "    <tr>\n",
       "      <th>1</th>\n",
       "      <td>2</td>\n",
       "      <td>Uzakwaziswa ngokufaneleko nakungafuneka eminye...</td>\n",
       "      <td>Uzakwaziswa ngokufaneleko nakungafuneka eminye...</td>\n",
       "    </tr>\n",
       "    <tr>\n",
       "      <th>2</th>\n",
       "      <td>3</td>\n",
       "      <td>Tshivhumbeo tshi fana na ngano dza vhathu.</td>\n",
       "      <td>Tshivhumbeo tshi fana na ngano dza vhathu</td>\n",
       "    </tr>\n",
       "    <tr>\n",
       "      <th>3</th>\n",
       "      <td>4</td>\n",
       "      <td>Kube inja nelikati betingevakala kutsi titsini...</td>\n",
       "      <td>Kube inja nelikati betingevakala kutsi titsini...</td>\n",
       "    </tr>\n",
       "    <tr>\n",
       "      <th>4</th>\n",
       "      <td>5</td>\n",
       "      <td>Winste op buitelandse valuta.</td>\n",
       "      <td>Winste op buitelandse valuta</td>\n",
       "    </tr>\n",
       "  </tbody>\n",
       "</table>\n",
       "</div>"
      ],
      "text/plain": [
       "   index                                               text  \\\n",
       "0      1  Mmasepala, fa maemo a a kgethegileng a letlele...   \n",
       "1      2  Uzakwaziswa ngokufaneleko nakungafuneka eminye...   \n",
       "2      3         Tshivhumbeo tshi fana na ngano dza vhathu.   \n",
       "3      4  Kube inja nelikati betingevakala kutsi titsini...   \n",
       "4      5                      Winste op buitelandse valuta.   \n",
       "\n",
       "                                          clean_text  \n",
       "0  Mmasepala fa maemo a a kgethegileng a letlelel...  \n",
       "1  Uzakwaziswa ngokufaneleko nakungafuneka eminye...  \n",
       "2          Tshivhumbeo tshi fana na ngano dza vhathu  \n",
       "3  Kube inja nelikati betingevakala kutsi titsini...  \n",
       "4                       Winste op buitelandse valuta  "
      ]
     },
     "execution_count": 173,
     "metadata": {},
     "output_type": "execute_result"
    }
   ],
   "source": [
    "test_df.head()"
   ]
  },
  {
   "cell_type": "markdown",
   "metadata": {},
   "source": [
    "Natural Language Processing: Tokenization,Lemmatization"
   ]
  },
  {
   "cell_type": "code",
   "execution_count": 174,
   "metadata": {},
   "outputs": [],
   "source": [
    "from nltk.tokenize import word_tokenize, TreebankWordTokenizer\n",
    "def tokenization(text):\n",
    "    \"\"\"\n",
    "    split the message into token of words\n",
    "    Returns a token of each word contained in the text(tweet)\n",
    "    \"\"\"\n",
    "    text = word_tokenize(text)\n",
    "    return text\n",
    "\n",
    "train_df['tokenized_message'] = train_df['clean_text'].apply(lambda x:\n",
    "                                                              tokenization\n",
    "                                                              (x.lower()))\n",
    "test_df['tokenized_message'] = test_df['clean_text'].apply(lambda x:\n",
    "                                                            tokenization\n",
    "                                                            (x.lower()))"
   ]
  },
  {
   "cell_type": "code",
   "execution_count": 175,
   "metadata": {},
   "outputs": [
    {
     "name": "stderr",
     "output_type": "stream",
     "text": [
      "[nltk_data] Downloading package wordnet to\n",
      "[nltk_data]     C:\\Users\\27815\\AppData\\Roaming\\nltk_data...\n",
      "[nltk_data]   Package wordnet is already up-to-date!\n"
     ]
    },
    {
     "name": "stdout",
     "output_type": "stream",
     "text": [
      "dinyaki              --> dinyaki   \n",
      "i                    --> i         \n",
      "o                    --> o         \n",
      "t                    --> t         \n",
      "e                    --> e         \n",
      "t                    --> t         \n",
      "a                    --> a         \n",
      "go                   --> go        \n",
      "dirwa                --> dirwa     \n",
      "gabedi               --> gabedi    \n",
      "ka                   --> ka        \n",
      "ngwaga               --> ngwaga    \n",
      "di                   --> di        \n",
      "tla                  --> tla       \n",
      "lebelela             --> lebelela  \n",
      "diphetogo            --> diphetogo \n",
      "t                    --> t         \n",
      "a                    --> a         \n",
      "mebaraka             --> mebaraka  \n",
      "ya                   --> ya        \n",
      "me                   --> me        \n",
      "omo                  --> omo       \n",
      "le                   --> le        \n",
      "mekgwa               --> mekgwa    \n",
      "ga                   --> ga        \n",
      "mmogo                --> mmogo     \n",
      "le                   --> le        \n",
      "go                   --> go        \n",
      "thapiwa              --> thapiwa   \n",
      "me                   --> me        \n",
      "omong                --> omong     \n",
      "ka                   --> ka        \n",
      "makaleng             --> makaleng  \n",
      "ao                   --> ao        \n",
      "me                   --> me        \n",
      "omo                  --> omo       \n",
      "ao                   --> ao        \n",
      "lego                 --> lego      \n",
      "molaong              --> molaong   \n",
      "le                   --> le        \n",
      "ao                   --> ao        \n",
      "a                    --> a         \n",
      "sego                 --> sego      \n",
      "molaong              --> molaong   \n",
      "le                   --> le        \n",
      "go                   --> go        \n",
      "hloka                --> hloka     \n",
      "me                   --> me        \n",
      "omo                  --> omo       \n"
     ]
    }
   ],
   "source": [
    "import nltk\n",
    "from nltk.stem import WordNetLemmatizer\n",
    "nltk.download('wordnet')\n",
    "\n",
    "lemmatizer = WordNetLemmatizer()\n",
    "def lemma_df(text, lemmatizer):\n",
    "    return [lemmatizer.lemmatize(word) for word in text]\n",
    "train_df['lemma'] = train_df['tokenized_message'].apply(lemma_df, args=(lemmatizer, ))\n",
    "for i, t in enumerate(train_df.iloc[5]['tokenized_message']):\n",
    "    print ('{:20s} --> {:10s}'.format(t, train_df.iloc[5]['lemma'][i]))"
   ]
  },
  {
   "cell_type": "code",
   "execution_count": 176,
   "metadata": {},
   "outputs": [
    {
     "data": {
      "text/html": [
       "<div>\n",
       "<style scoped>\n",
       "    .dataframe tbody tr th:only-of-type {\n",
       "        vertical-align: middle;\n",
       "    }\n",
       "\n",
       "    .dataframe tbody tr th {\n",
       "        vertical-align: top;\n",
       "    }\n",
       "\n",
       "    .dataframe thead th {\n",
       "        text-align: right;\n",
       "    }\n",
       "</style>\n",
       "<table border=\"1\" class=\"dataframe\">\n",
       "  <thead>\n",
       "    <tr style=\"text-align: right;\">\n",
       "      <th></th>\n",
       "      <th>lang_id</th>\n",
       "      <th>text</th>\n",
       "      <th>clean_text</th>\n",
       "      <th>tokenized_message</th>\n",
       "      <th>lemma</th>\n",
       "    </tr>\n",
       "  </thead>\n",
       "  <tbody>\n",
       "    <tr>\n",
       "      <th>0</th>\n",
       "      <td>xho</td>\n",
       "      <td>umgaqo-siseko wenza amalungiselelo kumaziko ax...</td>\n",
       "      <td>umgaqo siseko wenza amalungiselelo kumaziko ax...</td>\n",
       "      <td>[umgaqo, siseko, wenza, amalungiselelo, kumazi...</td>\n",
       "      <td>[umgaqo, siseko, wenza, amalungiselelo, kumazi...</td>\n",
       "    </tr>\n",
       "    <tr>\n",
       "      <th>1</th>\n",
       "      <td>xho</td>\n",
       "      <td>i-dha iya kuba nobulumko bokubeka umsebenzi na...</td>\n",
       "      <td>i dha iya kuba nobulumko bokubeka umsebenzi na...</td>\n",
       "      <td>[i, dha, iya, kuba, nobulumko, bokubeka, umseb...</td>\n",
       "      <td>[i, dha, iya, kuba, nobulumko, bokubeka, umseb...</td>\n",
       "    </tr>\n",
       "    <tr>\n",
       "      <th>2</th>\n",
       "      <td>eng</td>\n",
       "      <td>the province of kwazulu-natal department of tr...</td>\n",
       "      <td>the province of kwazulu natal department of tr...</td>\n",
       "      <td>[the, province, of, kwazulu, natal, department...</td>\n",
       "      <td>[the, province, of, kwazulu, natal, department...</td>\n",
       "    </tr>\n",
       "    <tr>\n",
       "      <th>3</th>\n",
       "      <td>nso</td>\n",
       "      <td>o netefatša gore o ba file dilo ka moka tše le...</td>\n",
       "      <td>o netefat a gore o ba file dilo ka moka t e le...</td>\n",
       "      <td>[o, netefat, a, gore, o, ba, file, dilo, ka, m...</td>\n",
       "      <td>[o, netefat, a, gore, o, ba, file, dilo, ka, m...</td>\n",
       "    </tr>\n",
       "    <tr>\n",
       "      <th>4</th>\n",
       "      <td>ven</td>\n",
       "      <td>khomishini ya ndinganyiso ya mbeu yo ewa maana...</td>\n",
       "      <td>khomishini ya ndinganyiso ya mbeu yo ewa maana...</td>\n",
       "      <td>[khomishini, ya, ndinganyiso, ya, mbeu, yo, ew...</td>\n",
       "      <td>[khomishini, ya, ndinganyiso, ya, mbeu, yo, ew...</td>\n",
       "    </tr>\n",
       "  </tbody>\n",
       "</table>\n",
       "</div>"
      ],
      "text/plain": [
       "  lang_id                                               text  \\\n",
       "0     xho  umgaqo-siseko wenza amalungiselelo kumaziko ax...   \n",
       "1     xho  i-dha iya kuba nobulumko bokubeka umsebenzi na...   \n",
       "2     eng  the province of kwazulu-natal department of tr...   \n",
       "3     nso  o netefatša gore o ba file dilo ka moka tše le...   \n",
       "4     ven  khomishini ya ndinganyiso ya mbeu yo ewa maana...   \n",
       "\n",
       "                                          clean_text  \\\n",
       "0  umgaqo siseko wenza amalungiselelo kumaziko ax...   \n",
       "1  i dha iya kuba nobulumko bokubeka umsebenzi na...   \n",
       "2  the province of kwazulu natal department of tr...   \n",
       "3  o netefat a gore o ba file dilo ka moka t e le...   \n",
       "4  khomishini ya ndinganyiso ya mbeu yo ewa maana...   \n",
       "\n",
       "                                   tokenized_message  \\\n",
       "0  [umgaqo, siseko, wenza, amalungiselelo, kumazi...   \n",
       "1  [i, dha, iya, kuba, nobulumko, bokubeka, umseb...   \n",
       "2  [the, province, of, kwazulu, natal, department...   \n",
       "3  [o, netefat, a, gore, o, ba, file, dilo, ka, m...   \n",
       "4  [khomishini, ya, ndinganyiso, ya, mbeu, yo, ew...   \n",
       "\n",
       "                                               lemma  \n",
       "0  [umgaqo, siseko, wenza, amalungiselelo, kumazi...  \n",
       "1  [i, dha, iya, kuba, nobulumko, bokubeka, umseb...  \n",
       "2  [the, province, of, kwazulu, natal, department...  \n",
       "3  [o, netefat, a, gore, o, ba, file, dilo, ka, m...  \n",
       "4  [khomishini, ya, ndinganyiso, ya, mbeu, yo, ew...  "
      ]
     },
     "execution_count": 176,
     "metadata": {},
     "output_type": "execute_result"
    }
   ],
   "source": [
    "#Let's observe our progress thus far\n",
    "train_df.head()"
   ]
  },
  {
   "cell_type": "code",
   "execution_count": 177,
   "metadata": {},
   "outputs": [],
   "source": [
    "from nltk.tokenize.treebank import TreebankWordDetokenizer as Detok\n",
    "def detokenization(text):\n",
    "    \"\"\"\n",
    "    Takes the tokenized text and removes the tokenization\n",
    "    Returns text that is detokenized\n",
    "    \"\"\"\n",
    "    detokenizer = Detok()\n",
    "    text = detokenizer.detokenize(text)\n",
    "    return text\n",
    "train_df['detokenized_message'] = train_df['tokenized_message'].apply(lambda x:\n",
    "                                                            detokenization(x))\n",
    "\n",
    "test_df['detokenized_message'] = test_df['tokenized_message'].apply(lambda x:\n",
    "                                                          detokenization(x))"
   ]
  },
  {
   "cell_type": "code",
   "execution_count": 178,
   "metadata": {},
   "outputs": [
    {
     "data": {
      "text/html": [
       "<div>\n",
       "<style scoped>\n",
       "    .dataframe tbody tr th:only-of-type {\n",
       "        vertical-align: middle;\n",
       "    }\n",
       "\n",
       "    .dataframe tbody tr th {\n",
       "        vertical-align: top;\n",
       "    }\n",
       "\n",
       "    .dataframe thead th {\n",
       "        text-align: right;\n",
       "    }\n",
       "</style>\n",
       "<table border=\"1\" class=\"dataframe\">\n",
       "  <thead>\n",
       "    <tr style=\"text-align: right;\">\n",
       "      <th></th>\n",
       "      <th>lang_id</th>\n",
       "      <th>text</th>\n",
       "      <th>clean_text</th>\n",
       "      <th>tokenized_message</th>\n",
       "      <th>lemma</th>\n",
       "      <th>detokenized_message</th>\n",
       "    </tr>\n",
       "  </thead>\n",
       "  <tbody>\n",
       "    <tr>\n",
       "      <th>0</th>\n",
       "      <td>xho</td>\n",
       "      <td>umgaqo-siseko wenza amalungiselelo kumaziko ax...</td>\n",
       "      <td>umgaqo siseko wenza amalungiselelo kumaziko ax...</td>\n",
       "      <td>[umgaqo, siseko, wenza, amalungiselelo, kumazi...</td>\n",
       "      <td>[umgaqo, siseko, wenza, amalungiselelo, kumazi...</td>\n",
       "      <td>umgaqo siseko wenza amalungiselelo kumaziko ax...</td>\n",
       "    </tr>\n",
       "    <tr>\n",
       "      <th>1</th>\n",
       "      <td>xho</td>\n",
       "      <td>i-dha iya kuba nobulumko bokubeka umsebenzi na...</td>\n",
       "      <td>i dha iya kuba nobulumko bokubeka umsebenzi na...</td>\n",
       "      <td>[i, dha, iya, kuba, nobulumko, bokubeka, umseb...</td>\n",
       "      <td>[i, dha, iya, kuba, nobulumko, bokubeka, umseb...</td>\n",
       "      <td>i dha iya kuba nobulumko bokubeka umsebenzi na...</td>\n",
       "    </tr>\n",
       "    <tr>\n",
       "      <th>2</th>\n",
       "      <td>eng</td>\n",
       "      <td>the province of kwazulu-natal department of tr...</td>\n",
       "      <td>the province of kwazulu natal department of tr...</td>\n",
       "      <td>[the, province, of, kwazulu, natal, department...</td>\n",
       "      <td>[the, province, of, kwazulu, natal, department...</td>\n",
       "      <td>the province of kwazulu natal department of tr...</td>\n",
       "    </tr>\n",
       "    <tr>\n",
       "      <th>3</th>\n",
       "      <td>nso</td>\n",
       "      <td>o netefatša gore o ba file dilo ka moka tše le...</td>\n",
       "      <td>o netefat a gore o ba file dilo ka moka t e le...</td>\n",
       "      <td>[o, netefat, a, gore, o, ba, file, dilo, ka, m...</td>\n",
       "      <td>[o, netefat, a, gore, o, ba, file, dilo, ka, m...</td>\n",
       "      <td>o netefat a gore o ba file dilo ka moka t e le...</td>\n",
       "    </tr>\n",
       "    <tr>\n",
       "      <th>4</th>\n",
       "      <td>ven</td>\n",
       "      <td>khomishini ya ndinganyiso ya mbeu yo ewa maana...</td>\n",
       "      <td>khomishini ya ndinganyiso ya mbeu yo ewa maana...</td>\n",
       "      <td>[khomishini, ya, ndinganyiso, ya, mbeu, yo, ew...</td>\n",
       "      <td>[khomishini, ya, ndinganyiso, ya, mbeu, yo, ew...</td>\n",
       "      <td>khomishini ya ndinganyiso ya mbeu yo ewa maana...</td>\n",
       "    </tr>\n",
       "  </tbody>\n",
       "</table>\n",
       "</div>"
      ],
      "text/plain": [
       "  lang_id                                               text  \\\n",
       "0     xho  umgaqo-siseko wenza amalungiselelo kumaziko ax...   \n",
       "1     xho  i-dha iya kuba nobulumko bokubeka umsebenzi na...   \n",
       "2     eng  the province of kwazulu-natal department of tr...   \n",
       "3     nso  o netefatša gore o ba file dilo ka moka tše le...   \n",
       "4     ven  khomishini ya ndinganyiso ya mbeu yo ewa maana...   \n",
       "\n",
       "                                          clean_text  \\\n",
       "0  umgaqo siseko wenza amalungiselelo kumaziko ax...   \n",
       "1  i dha iya kuba nobulumko bokubeka umsebenzi na...   \n",
       "2  the province of kwazulu natal department of tr...   \n",
       "3  o netefat a gore o ba file dilo ka moka t e le...   \n",
       "4  khomishini ya ndinganyiso ya mbeu yo ewa maana...   \n",
       "\n",
       "                                   tokenized_message  \\\n",
       "0  [umgaqo, siseko, wenza, amalungiselelo, kumazi...   \n",
       "1  [i, dha, iya, kuba, nobulumko, bokubeka, umseb...   \n",
       "2  [the, province, of, kwazulu, natal, department...   \n",
       "3  [o, netefat, a, gore, o, ba, file, dilo, ka, m...   \n",
       "4  [khomishini, ya, ndinganyiso, ya, mbeu, yo, ew...   \n",
       "\n",
       "                                               lemma  \\\n",
       "0  [umgaqo, siseko, wenza, amalungiselelo, kumazi...   \n",
       "1  [i, dha, iya, kuba, nobulumko, bokubeka, umseb...   \n",
       "2  [the, province, of, kwazulu, natal, department...   \n",
       "3  [o, netefat, a, gore, o, ba, file, dilo, ka, m...   \n",
       "4  [khomishini, ya, ndinganyiso, ya, mbeu, yo, ew...   \n",
       "\n",
       "                                 detokenized_message  \n",
       "0  umgaqo siseko wenza amalungiselelo kumaziko ax...  \n",
       "1  i dha iya kuba nobulumko bokubeka umsebenzi na...  \n",
       "2  the province of kwazulu natal department of tr...  \n",
       "3  o netefat a gore o ba file dilo ka moka t e le...  \n",
       "4  khomishini ya ndinganyiso ya mbeu yo ewa maana...  "
      ]
     },
     "execution_count": 178,
     "metadata": {},
     "output_type": "execute_result"
    }
   ],
   "source": [
    "#let's see how that looks\n",
    "train_df.head()"
   ]
  },
  {
   "cell_type": "code",
   "execution_count": 179,
   "metadata": {},
   "outputs": [
    {
     "data": {
      "text/html": [
       "<div>\n",
       "<style scoped>\n",
       "    .dataframe tbody tr th:only-of-type {\n",
       "        vertical-align: middle;\n",
       "    }\n",
       "\n",
       "    .dataframe tbody tr th {\n",
       "        vertical-align: top;\n",
       "    }\n",
       "\n",
       "    .dataframe thead th {\n",
       "        text-align: right;\n",
       "    }\n",
       "</style>\n",
       "<table border=\"1\" class=\"dataframe\">\n",
       "  <thead>\n",
       "    <tr style=\"text-align: right;\">\n",
       "      <th></th>\n",
       "      <th>index</th>\n",
       "      <th>text</th>\n",
       "      <th>clean_text</th>\n",
       "      <th>tokenized_message</th>\n",
       "      <th>detokenized_message</th>\n",
       "    </tr>\n",
       "  </thead>\n",
       "  <tbody>\n",
       "    <tr>\n",
       "      <th>0</th>\n",
       "      <td>1</td>\n",
       "      <td>Mmasepala, fa maemo a a kgethegileng a letlele...</td>\n",
       "      <td>Mmasepala fa maemo a a kgethegileng a letlelel...</td>\n",
       "      <td>[mmasepala, fa, maemo, a, a, kgethegileng, a, ...</td>\n",
       "      <td>mmasepala fa maemo a a kgethegileng a letlelel...</td>\n",
       "    </tr>\n",
       "    <tr>\n",
       "      <th>1</th>\n",
       "      <td>2</td>\n",
       "      <td>Uzakwaziswa ngokufaneleko nakungafuneka eminye...</td>\n",
       "      <td>Uzakwaziswa ngokufaneleko nakungafuneka eminye...</td>\n",
       "      <td>[uzakwaziswa, ngokufaneleko, nakungafuneka, em...</td>\n",
       "      <td>uzakwaziswa ngokufaneleko nakungafuneka eminye...</td>\n",
       "    </tr>\n",
       "    <tr>\n",
       "      <th>2</th>\n",
       "      <td>3</td>\n",
       "      <td>Tshivhumbeo tshi fana na ngano dza vhathu.</td>\n",
       "      <td>Tshivhumbeo tshi fana na ngano dza vhathu</td>\n",
       "      <td>[tshivhumbeo, tshi, fana, na, ngano, dza, vhathu]</td>\n",
       "      <td>tshivhumbeo tshi fana na ngano dza vhathu</td>\n",
       "    </tr>\n",
       "    <tr>\n",
       "      <th>3</th>\n",
       "      <td>4</td>\n",
       "      <td>Kube inja nelikati betingevakala kutsi titsini...</td>\n",
       "      <td>Kube inja nelikati betingevakala kutsi titsini...</td>\n",
       "      <td>[kube, inja, nelikati, betingevakala, kutsi, t...</td>\n",
       "      <td>kube inja nelikati betingevakala kutsi titsini...</td>\n",
       "    </tr>\n",
       "    <tr>\n",
       "      <th>4</th>\n",
       "      <td>5</td>\n",
       "      <td>Winste op buitelandse valuta.</td>\n",
       "      <td>Winste op buitelandse valuta</td>\n",
       "      <td>[winste, op, buitelandse, valuta]</td>\n",
       "      <td>winste op buitelandse valuta</td>\n",
       "    </tr>\n",
       "  </tbody>\n",
       "</table>\n",
       "</div>"
      ],
      "text/plain": [
       "   index                                               text  \\\n",
       "0      1  Mmasepala, fa maemo a a kgethegileng a letlele...   \n",
       "1      2  Uzakwaziswa ngokufaneleko nakungafuneka eminye...   \n",
       "2      3         Tshivhumbeo tshi fana na ngano dza vhathu.   \n",
       "3      4  Kube inja nelikati betingevakala kutsi titsini...   \n",
       "4      5                      Winste op buitelandse valuta.   \n",
       "\n",
       "                                          clean_text  \\\n",
       "0  Mmasepala fa maemo a a kgethegileng a letlelel...   \n",
       "1  Uzakwaziswa ngokufaneleko nakungafuneka eminye...   \n",
       "2          Tshivhumbeo tshi fana na ngano dza vhathu   \n",
       "3  Kube inja nelikati betingevakala kutsi titsini...   \n",
       "4                       Winste op buitelandse valuta   \n",
       "\n",
       "                                   tokenized_message  \\\n",
       "0  [mmasepala, fa, maemo, a, a, kgethegileng, a, ...   \n",
       "1  [uzakwaziswa, ngokufaneleko, nakungafuneka, em...   \n",
       "2  [tshivhumbeo, tshi, fana, na, ngano, dza, vhathu]   \n",
       "3  [kube, inja, nelikati, betingevakala, kutsi, t...   \n",
       "4                  [winste, op, buitelandse, valuta]   \n",
       "\n",
       "                                 detokenized_message  \n",
       "0  mmasepala fa maemo a a kgethegileng a letlelel...  \n",
       "1  uzakwaziswa ngokufaneleko nakungafuneka eminye...  \n",
       "2          tshivhumbeo tshi fana na ngano dza vhathu  \n",
       "3  kube inja nelikati betingevakala kutsi titsini...  \n",
       "4                       winste op buitelandse valuta  "
      ]
     },
     "execution_count": 179,
     "metadata": {},
     "output_type": "execute_result"
    }
   ],
   "source": [
    "test_df.head()"
   ]
  },
  {
   "cell_type": "markdown",
   "metadata": {},
   "source": [
    "Comparing the raw text from the data set with what we have now"
   ]
  },
  {
   "cell_type": "code",
   "execution_count": 180,
   "metadata": {},
   "outputs": [],
   "source": [
    "# creating two new columns in train data\n",
    "train_df['Num_words_raw'] = train_df['text'].apply(lambda\n",
    "                                                      x: len(str(x).split()))\n",
    "train_df['Num_words_clean'] = train_df['clean_text'].apply(\n",
    "                                                              lambda x:\n",
    "                                                              len(str(\n",
    "                                                                  x).split()))\n",
    "\n",
    "# Difference in Number of word in raw data and clean\n",
    "train_df['difference_in_wordsNo'] = abs(train_df['Num_words_raw'] -\n",
    "                                        train_df['Num_words_clean'])\n",
    "\n",
    "# test data frame\n",
    "test_df['Num_words_raw'] = test_df['text'].apply(lambda\n",
    "                                                    x: len(str(x).split()))\n",
    "test_df['Num_words_clean'] = test_df['clean_text'].apply(lambda x:\n",
    "                                                            len(str(x).split(\n",
    "                                                            )))\n",
    "\n",
    "\n",
    "# Difference in Number of words text and Selected Text\n",
    "test_df['difference_in_wordsNo'] = abs(test_df['Num_words_raw']\n",
    "                                       - test_df['Num_words_clean'])"
   ]
  },
  {
   "cell_type": "code",
   "execution_count": 181,
   "metadata": {},
   "outputs": [
    {
     "data": {
      "text/html": [
       "<div>\n",
       "<style scoped>\n",
       "    .dataframe tbody tr th:only-of-type {\n",
       "        vertical-align: middle;\n",
       "    }\n",
       "\n",
       "    .dataframe tbody tr th {\n",
       "        vertical-align: top;\n",
       "    }\n",
       "\n",
       "    .dataframe thead th {\n",
       "        text-align: right;\n",
       "    }\n",
       "</style>\n",
       "<table border=\"1\" class=\"dataframe\">\n",
       "  <thead>\n",
       "    <tr style=\"text-align: right;\">\n",
       "      <th></th>\n",
       "      <th>lang_id</th>\n",
       "      <th>text</th>\n",
       "      <th>clean_text</th>\n",
       "      <th>tokenized_message</th>\n",
       "      <th>lemma</th>\n",
       "      <th>detokenized_message</th>\n",
       "      <th>Num_words_raw</th>\n",
       "      <th>Num_words_clean</th>\n",
       "      <th>difference_in_wordsNo</th>\n",
       "    </tr>\n",
       "  </thead>\n",
       "  <tbody>\n",
       "    <tr>\n",
       "      <th>0</th>\n",
       "      <td>xho</td>\n",
       "      <td>umgaqo-siseko wenza amalungiselelo kumaziko ax...</td>\n",
       "      <td>umgaqo siseko wenza amalungiselelo kumaziko ax...</td>\n",
       "      <td>[umgaqo, siseko, wenza, amalungiselelo, kumazi...</td>\n",
       "      <td>[umgaqo, siseko, wenza, amalungiselelo, kumazi...</td>\n",
       "      <td>umgaqo siseko wenza amalungiselelo kumaziko ax...</td>\n",
       "      <td>24</td>\n",
       "      <td>25</td>\n",
       "      <td>1</td>\n",
       "    </tr>\n",
       "    <tr>\n",
       "      <th>1</th>\n",
       "      <td>xho</td>\n",
       "      <td>i-dha iya kuba nobulumko bokubeka umsebenzi na...</td>\n",
       "      <td>i dha iya kuba nobulumko bokubeka umsebenzi na...</td>\n",
       "      <td>[i, dha, iya, kuba, nobulumko, bokubeka, umseb...</td>\n",
       "      <td>[i, dha, iya, kuba, nobulumko, bokubeka, umseb...</td>\n",
       "      <td>i dha iya kuba nobulumko bokubeka umsebenzi na...</td>\n",
       "      <td>31</td>\n",
       "      <td>33</td>\n",
       "      <td>2</td>\n",
       "    </tr>\n",
       "    <tr>\n",
       "      <th>2</th>\n",
       "      <td>eng</td>\n",
       "      <td>the province of kwazulu-natal department of tr...</td>\n",
       "      <td>the province of kwazulu natal department of tr...</td>\n",
       "      <td>[the, province, of, kwazulu, natal, department...</td>\n",
       "      <td>[the, province, of, kwazulu, natal, department...</td>\n",
       "      <td>the province of kwazulu natal department of tr...</td>\n",
       "      <td>37</td>\n",
       "      <td>38</td>\n",
       "      <td>1</td>\n",
       "    </tr>\n",
       "  </tbody>\n",
       "</table>\n",
       "</div>"
      ],
      "text/plain": [
       "  lang_id                                               text  \\\n",
       "0     xho  umgaqo-siseko wenza amalungiselelo kumaziko ax...   \n",
       "1     xho  i-dha iya kuba nobulumko bokubeka umsebenzi na...   \n",
       "2     eng  the province of kwazulu-natal department of tr...   \n",
       "\n",
       "                                          clean_text  \\\n",
       "0  umgaqo siseko wenza amalungiselelo kumaziko ax...   \n",
       "1  i dha iya kuba nobulumko bokubeka umsebenzi na...   \n",
       "2  the province of kwazulu natal department of tr...   \n",
       "\n",
       "                                   tokenized_message  \\\n",
       "0  [umgaqo, siseko, wenza, amalungiselelo, kumazi...   \n",
       "1  [i, dha, iya, kuba, nobulumko, bokubeka, umseb...   \n",
       "2  [the, province, of, kwazulu, natal, department...   \n",
       "\n",
       "                                               lemma  \\\n",
       "0  [umgaqo, siseko, wenza, amalungiselelo, kumazi...   \n",
       "1  [i, dha, iya, kuba, nobulumko, bokubeka, umseb...   \n",
       "2  [the, province, of, kwazulu, natal, department...   \n",
       "\n",
       "                                 detokenized_message  Num_words_raw  \\\n",
       "0  umgaqo siseko wenza amalungiselelo kumaziko ax...             24   \n",
       "1  i dha iya kuba nobulumko bokubeka umsebenzi na...             31   \n",
       "2  the province of kwazulu natal department of tr...             37   \n",
       "\n",
       "   Num_words_clean  difference_in_wordsNo  \n",
       "0               25                      1  \n",
       "1               33                      2  \n",
       "2               38                      1  "
      ]
     },
     "execution_count": 181,
     "metadata": {},
     "output_type": "execute_result"
    }
   ],
   "source": [
    "train_df.head(3)"
   ]
  },
  {
   "cell_type": "code",
   "execution_count": 182,
   "metadata": {},
   "outputs": [
    {
     "data": {
      "text/html": [
       "<div>\n",
       "<style scoped>\n",
       "    .dataframe tbody tr th:only-of-type {\n",
       "        vertical-align: middle;\n",
       "    }\n",
       "\n",
       "    .dataframe tbody tr th {\n",
       "        vertical-align: top;\n",
       "    }\n",
       "\n",
       "    .dataframe thead th {\n",
       "        text-align: right;\n",
       "    }\n",
       "</style>\n",
       "<table border=\"1\" class=\"dataframe\">\n",
       "  <thead>\n",
       "    <tr style=\"text-align: right;\">\n",
       "      <th></th>\n",
       "      <th>index</th>\n",
       "      <th>text</th>\n",
       "      <th>clean_text</th>\n",
       "      <th>tokenized_message</th>\n",
       "      <th>detokenized_message</th>\n",
       "      <th>Num_words_raw</th>\n",
       "      <th>Num_words_clean</th>\n",
       "      <th>difference_in_wordsNo</th>\n",
       "    </tr>\n",
       "  </thead>\n",
       "  <tbody>\n",
       "    <tr>\n",
       "      <th>0</th>\n",
       "      <td>1</td>\n",
       "      <td>Mmasepala, fa maemo a a kgethegileng a letlele...</td>\n",
       "      <td>Mmasepala fa maemo a a kgethegileng a letlelel...</td>\n",
       "      <td>[mmasepala, fa, maemo, a, a, kgethegileng, a, ...</td>\n",
       "      <td>mmasepala fa maemo a a kgethegileng a letlelel...</td>\n",
       "      <td>10</td>\n",
       "      <td>10</td>\n",
       "      <td>0</td>\n",
       "    </tr>\n",
       "    <tr>\n",
       "      <th>1</th>\n",
       "      <td>2</td>\n",
       "      <td>Uzakwaziswa ngokufaneleko nakungafuneka eminye...</td>\n",
       "      <td>Uzakwaziswa ngokufaneleko nakungafuneka eminye...</td>\n",
       "      <td>[uzakwaziswa, ngokufaneleko, nakungafuneka, em...</td>\n",
       "      <td>uzakwaziswa ngokufaneleko nakungafuneka eminye...</td>\n",
       "      <td>10</td>\n",
       "      <td>10</td>\n",
       "      <td>0</td>\n",
       "    </tr>\n",
       "    <tr>\n",
       "      <th>2</th>\n",
       "      <td>3</td>\n",
       "      <td>Tshivhumbeo tshi fana na ngano dza vhathu.</td>\n",
       "      <td>Tshivhumbeo tshi fana na ngano dza vhathu</td>\n",
       "      <td>[tshivhumbeo, tshi, fana, na, ngano, dza, vhathu]</td>\n",
       "      <td>tshivhumbeo tshi fana na ngano dza vhathu</td>\n",
       "      <td>7</td>\n",
       "      <td>7</td>\n",
       "      <td>0</td>\n",
       "    </tr>\n",
       "    <tr>\n",
       "      <th>3</th>\n",
       "      <td>4</td>\n",
       "      <td>Kube inja nelikati betingevakala kutsi titsini...</td>\n",
       "      <td>Kube inja nelikati betingevakala kutsi titsini...</td>\n",
       "      <td>[kube, inja, nelikati, betingevakala, kutsi, t...</td>\n",
       "      <td>kube inja nelikati betingevakala kutsi titsini...</td>\n",
       "      <td>7</td>\n",
       "      <td>7</td>\n",
       "      <td>0</td>\n",
       "    </tr>\n",
       "    <tr>\n",
       "      <th>4</th>\n",
       "      <td>5</td>\n",
       "      <td>Winste op buitelandse valuta.</td>\n",
       "      <td>Winste op buitelandse valuta</td>\n",
       "      <td>[winste, op, buitelandse, valuta]</td>\n",
       "      <td>winste op buitelandse valuta</td>\n",
       "      <td>4</td>\n",
       "      <td>4</td>\n",
       "      <td>0</td>\n",
       "    </tr>\n",
       "  </tbody>\n",
       "</table>\n",
       "</div>"
      ],
      "text/plain": [
       "   index                                               text  \\\n",
       "0      1  Mmasepala, fa maemo a a kgethegileng a letlele...   \n",
       "1      2  Uzakwaziswa ngokufaneleko nakungafuneka eminye...   \n",
       "2      3         Tshivhumbeo tshi fana na ngano dza vhathu.   \n",
       "3      4  Kube inja nelikati betingevakala kutsi titsini...   \n",
       "4      5                      Winste op buitelandse valuta.   \n",
       "\n",
       "                                          clean_text  \\\n",
       "0  Mmasepala fa maemo a a kgethegileng a letlelel...   \n",
       "1  Uzakwaziswa ngokufaneleko nakungafuneka eminye...   \n",
       "2          Tshivhumbeo tshi fana na ngano dza vhathu   \n",
       "3  Kube inja nelikati betingevakala kutsi titsini...   \n",
       "4                       Winste op buitelandse valuta   \n",
       "\n",
       "                                   tokenized_message  \\\n",
       "0  [mmasepala, fa, maemo, a, a, kgethegileng, a, ...   \n",
       "1  [uzakwaziswa, ngokufaneleko, nakungafuneka, em...   \n",
       "2  [tshivhumbeo, tshi, fana, na, ngano, dza, vhathu]   \n",
       "3  [kube, inja, nelikati, betingevakala, kutsi, t...   \n",
       "4                  [winste, op, buitelandse, valuta]   \n",
       "\n",
       "                                 detokenized_message  Num_words_raw  \\\n",
       "0  mmasepala fa maemo a a kgethegileng a letlelel...             10   \n",
       "1  uzakwaziswa ngokufaneleko nakungafuneka eminye...             10   \n",
       "2          tshivhumbeo tshi fana na ngano dza vhathu              7   \n",
       "3  kube inja nelikati betingevakala kutsi titsini...              7   \n",
       "4                       winste op buitelandse valuta              4   \n",
       "\n",
       "   Num_words_clean  difference_in_wordsNo  \n",
       "0               10                      0  \n",
       "1               10                      0  \n",
       "2                7                      0  \n",
       "3                7                      0  \n",
       "4                4                      0  "
      ]
     },
     "execution_count": 182,
     "metadata": {},
     "output_type": "execute_result"
    }
   ],
   "source": [
    "test_df.head()"
   ]
  },
  {
   "cell_type": "code",
   "execution_count": 183,
   "metadata": {},
   "outputs": [
    {
     "data": {
      "text/html": [
       "<style type=\"text/css\">\n",
       "#T_aec33_row0_col1, #T_aec33_row0_col2, #T_aec33_row1_col1, #T_aec33_row1_col2, #T_aec33_row2_col1, #T_aec33_row2_col2, #T_aec33_row3_col1, #T_aec33_row3_col2, #T_aec33_row4_col1, #T_aec33_row4_col2, #T_aec33_row5_col1, #T_aec33_row5_col2, #T_aec33_row6_col1, #T_aec33_row6_col2, #T_aec33_row7_col1, #T_aec33_row7_col2, #T_aec33_row8_col1, #T_aec33_row8_col2, #T_aec33_row9_col1, #T_aec33_row9_col2, #T_aec33_row10_col1, #T_aec33_row10_col2 {\n",
       "  background-color: #bde7db;\n",
       "  color: #000000;\n",
       "}\n",
       "</style>\n",
       "<table id=\"T_aec33_\">\n",
       "  <thead>\n",
       "    <tr>\n",
       "      <th class=\"blank level0\" >&nbsp;</th>\n",
       "      <th class=\"col_heading level0 col0\" >lang_id</th>\n",
       "      <th class=\"col_heading level0 col1\" >detokenized_message</th>\n",
       "      <th class=\"col_heading level0 col2\" >percentage</th>\n",
       "    </tr>\n",
       "  </thead>\n",
       "  <tbody>\n",
       "    <tr>\n",
       "      <th id=\"T_aec33_level0_row0\" class=\"row_heading level0 row0\" >0</th>\n",
       "      <td id=\"T_aec33_row0_col0\" class=\"data row0 col0\" >afr</td>\n",
       "      <td id=\"T_aec33_row0_col1\" class=\"data row0 col1\" >3000</td>\n",
       "      <td id=\"T_aec33_row0_col2\" class=\"data row0 col2\" >9.090000</td>\n",
       "    </tr>\n",
       "    <tr>\n",
       "      <th id=\"T_aec33_level0_row1\" class=\"row_heading level0 row1\" >1</th>\n",
       "      <td id=\"T_aec33_row1_col0\" class=\"data row1 col0\" >eng</td>\n",
       "      <td id=\"T_aec33_row1_col1\" class=\"data row1 col1\" >3000</td>\n",
       "      <td id=\"T_aec33_row1_col2\" class=\"data row1 col2\" >9.090000</td>\n",
       "    </tr>\n",
       "    <tr>\n",
       "      <th id=\"T_aec33_level0_row2\" class=\"row_heading level0 row2\" >2</th>\n",
       "      <td id=\"T_aec33_row2_col0\" class=\"data row2 col0\" >nbl</td>\n",
       "      <td id=\"T_aec33_row2_col1\" class=\"data row2 col1\" >3000</td>\n",
       "      <td id=\"T_aec33_row2_col2\" class=\"data row2 col2\" >9.090000</td>\n",
       "    </tr>\n",
       "    <tr>\n",
       "      <th id=\"T_aec33_level0_row3\" class=\"row_heading level0 row3\" >3</th>\n",
       "      <td id=\"T_aec33_row3_col0\" class=\"data row3 col0\" >nso</td>\n",
       "      <td id=\"T_aec33_row3_col1\" class=\"data row3 col1\" >3000</td>\n",
       "      <td id=\"T_aec33_row3_col2\" class=\"data row3 col2\" >9.090000</td>\n",
       "    </tr>\n",
       "    <tr>\n",
       "      <th id=\"T_aec33_level0_row4\" class=\"row_heading level0 row4\" >4</th>\n",
       "      <td id=\"T_aec33_row4_col0\" class=\"data row4 col0\" >sot</td>\n",
       "      <td id=\"T_aec33_row4_col1\" class=\"data row4 col1\" >3000</td>\n",
       "      <td id=\"T_aec33_row4_col2\" class=\"data row4 col2\" >9.090000</td>\n",
       "    </tr>\n",
       "    <tr>\n",
       "      <th id=\"T_aec33_level0_row5\" class=\"row_heading level0 row5\" >5</th>\n",
       "      <td id=\"T_aec33_row5_col0\" class=\"data row5 col0\" >ssw</td>\n",
       "      <td id=\"T_aec33_row5_col1\" class=\"data row5 col1\" >3000</td>\n",
       "      <td id=\"T_aec33_row5_col2\" class=\"data row5 col2\" >9.090000</td>\n",
       "    </tr>\n",
       "    <tr>\n",
       "      <th id=\"T_aec33_level0_row6\" class=\"row_heading level0 row6\" >6</th>\n",
       "      <td id=\"T_aec33_row6_col0\" class=\"data row6 col0\" >tsn</td>\n",
       "      <td id=\"T_aec33_row6_col1\" class=\"data row6 col1\" >3000</td>\n",
       "      <td id=\"T_aec33_row6_col2\" class=\"data row6 col2\" >9.090000</td>\n",
       "    </tr>\n",
       "    <tr>\n",
       "      <th id=\"T_aec33_level0_row7\" class=\"row_heading level0 row7\" >7</th>\n",
       "      <td id=\"T_aec33_row7_col0\" class=\"data row7 col0\" >tso</td>\n",
       "      <td id=\"T_aec33_row7_col1\" class=\"data row7 col1\" >3000</td>\n",
       "      <td id=\"T_aec33_row7_col2\" class=\"data row7 col2\" >9.090000</td>\n",
       "    </tr>\n",
       "    <tr>\n",
       "      <th id=\"T_aec33_level0_row8\" class=\"row_heading level0 row8\" >8</th>\n",
       "      <td id=\"T_aec33_row8_col0\" class=\"data row8 col0\" >ven</td>\n",
       "      <td id=\"T_aec33_row8_col1\" class=\"data row8 col1\" >3000</td>\n",
       "      <td id=\"T_aec33_row8_col2\" class=\"data row8 col2\" >9.090000</td>\n",
       "    </tr>\n",
       "    <tr>\n",
       "      <th id=\"T_aec33_level0_row9\" class=\"row_heading level0 row9\" >9</th>\n",
       "      <td id=\"T_aec33_row9_col0\" class=\"data row9 col0\" >xho</td>\n",
       "      <td id=\"T_aec33_row9_col1\" class=\"data row9 col1\" >3000</td>\n",
       "      <td id=\"T_aec33_row9_col2\" class=\"data row9 col2\" >9.090000</td>\n",
       "    </tr>\n",
       "    <tr>\n",
       "      <th id=\"T_aec33_level0_row10\" class=\"row_heading level0 row10\" >10</th>\n",
       "      <td id=\"T_aec33_row10_col0\" class=\"data row10 col0\" >zul</td>\n",
       "      <td id=\"T_aec33_row10_col1\" class=\"data row10 col1\" >3000</td>\n",
       "      <td id=\"T_aec33_row10_col2\" class=\"data row10 col2\" >9.090000</td>\n",
       "    </tr>\n",
       "  </tbody>\n",
       "</table>\n"
      ],
      "text/plain": [
       "<pandas.io.formats.style.Styler at 0x1e9878f4340>"
      ]
     },
     "execution_count": 183,
     "metadata": {},
     "output_type": "execute_result"
    }
   ],
   "source": [
    "temp = train_df.groupby('lang_id').count()['detokenized_message'].reset_index().sort_values(by='detokenized_message',ascending=False)\n",
    "temp['percentage'] = round((temp['detokenized_message']/temp['detokenized_message'].sum())*100,2) #checking for tweet sentiment percetage\n",
    "temp.style.background_gradient(cmap='icefire')"
   ]
  },
  {
   "cell_type": "code",
   "execution_count": 184,
   "metadata": {},
   "outputs": [
    {
     "data": {
      "text/html": [
       "<div>\n",
       "<style scoped>\n",
       "    .dataframe tbody tr th:only-of-type {\n",
       "        vertical-align: middle;\n",
       "    }\n",
       "\n",
       "    .dataframe tbody tr th {\n",
       "        vertical-align: top;\n",
       "    }\n",
       "\n",
       "    .dataframe thead th {\n",
       "        text-align: right;\n",
       "    }\n",
       "</style>\n",
       "<table border=\"1\" class=\"dataframe\">\n",
       "  <thead>\n",
       "    <tr style=\"text-align: right;\">\n",
       "      <th></th>\n",
       "      <th>lang_id</th>\n",
       "      <th>text</th>\n",
       "      <th>clean_text</th>\n",
       "      <th>tokenized_message</th>\n",
       "      <th>lemma</th>\n",
       "      <th>detokenized_message</th>\n",
       "      <th>Num_words_raw</th>\n",
       "      <th>difference_in_wordsNo</th>\n",
       "    </tr>\n",
       "  </thead>\n",
       "  <tbody>\n",
       "    <tr>\n",
       "      <th>0</th>\n",
       "      <td>xho</td>\n",
       "      <td>umgaqo-siseko wenza amalungiselelo kumaziko ax...</td>\n",
       "      <td>umgaqo siseko wenza amalungiselelo kumaziko ax...</td>\n",
       "      <td>[umgaqo, siseko, wenza, amalungiselelo, kumazi...</td>\n",
       "      <td>[umgaqo, siseko, wenza, amalungiselelo, kumazi...</td>\n",
       "      <td>umgaqo siseko wenza amalungiselelo kumaziko ax...</td>\n",
       "      <td>24</td>\n",
       "      <td>1</td>\n",
       "    </tr>\n",
       "    <tr>\n",
       "      <th>1</th>\n",
       "      <td>xho</td>\n",
       "      <td>i-dha iya kuba nobulumko bokubeka umsebenzi na...</td>\n",
       "      <td>i dha iya kuba nobulumko bokubeka umsebenzi na...</td>\n",
       "      <td>[i, dha, iya, kuba, nobulumko, bokubeka, umseb...</td>\n",
       "      <td>[i, dha, iya, kuba, nobulumko, bokubeka, umseb...</td>\n",
       "      <td>i dha iya kuba nobulumko bokubeka umsebenzi na...</td>\n",
       "      <td>31</td>\n",
       "      <td>2</td>\n",
       "    </tr>\n",
       "  </tbody>\n",
       "</table>\n",
       "</div>"
      ],
      "text/plain": [
       "  lang_id                                               text  \\\n",
       "0     xho  umgaqo-siseko wenza amalungiselelo kumaziko ax...   \n",
       "1     xho  i-dha iya kuba nobulumko bokubeka umsebenzi na...   \n",
       "\n",
       "                                          clean_text  \\\n",
       "0  umgaqo siseko wenza amalungiselelo kumaziko ax...   \n",
       "1  i dha iya kuba nobulumko bokubeka umsebenzi na...   \n",
       "\n",
       "                                   tokenized_message  \\\n",
       "0  [umgaqo, siseko, wenza, amalungiselelo, kumazi...   \n",
       "1  [i, dha, iya, kuba, nobulumko, bokubeka, umseb...   \n",
       "\n",
       "                                               lemma  \\\n",
       "0  [umgaqo, siseko, wenza, amalungiselelo, kumazi...   \n",
       "1  [i, dha, iya, kuba, nobulumko, bokubeka, umseb...   \n",
       "\n",
       "                                 detokenized_message  Num_words_raw  \\\n",
       "0  umgaqo siseko wenza amalungiselelo kumaziko ax...             24   \n",
       "1  i dha iya kuba nobulumko bokubeka umsebenzi na...             31   \n",
       "\n",
       "   difference_in_wordsNo  \n",
       "0                      1  \n",
       "1                      2  "
      ]
     },
     "execution_count": 184,
     "metadata": {},
     "output_type": "execute_result"
    }
   ],
   "source": [
    "train_df= train_df.drop('Num_words_clean', axis=1)\n",
    "test_df= test_df.drop('Num_words_clean', axis=1)\n",
    "train_df.head(2)"
   ]
  },
  {
   "cell_type": "code",
   "execution_count": 185,
   "metadata": {},
   "outputs": [
    {
     "data": {
      "text/html": [
       "<div>\n",
       "<style scoped>\n",
       "    .dataframe tbody tr th:only-of-type {\n",
       "        vertical-align: middle;\n",
       "    }\n",
       "\n",
       "    .dataframe tbody tr th {\n",
       "        vertical-align: top;\n",
       "    }\n",
       "\n",
       "    .dataframe thead th {\n",
       "        text-align: right;\n",
       "    }\n",
       "</style>\n",
       "<table border=\"1\" class=\"dataframe\">\n",
       "  <thead>\n",
       "    <tr style=\"text-align: right;\">\n",
       "      <th></th>\n",
       "      <th>lang_id</th>\n",
       "      <th>text</th>\n",
       "      <th>clean_text</th>\n",
       "      <th>tokenized_message</th>\n",
       "      <th>lemma</th>\n",
       "      <th>detokenized_message</th>\n",
       "      <th>Num_words_raw</th>\n",
       "      <th>difference_in_wordsNo</th>\n",
       "    </tr>\n",
       "  </thead>\n",
       "  <tbody>\n",
       "    <tr>\n",
       "      <th>0</th>\n",
       "      <td>xho</td>\n",
       "      <td>umgaqo-siseko wenza amalungiselelo kumaziko ax...</td>\n",
       "      <td>umgaqo siseko wenza amalungiselelo kumaziko ax...</td>\n",
       "      <td>[umgaqo, siseko, wenza, amalungiselelo, kumazi...</td>\n",
       "      <td>[umgaqo, siseko, wenza, amalungiselelo, kumazi...</td>\n",
       "      <td>umgaqo siseko wenza amalungiselelo kumaziko ax...</td>\n",
       "      <td>24</td>\n",
       "      <td>1</td>\n",
       "    </tr>\n",
       "    <tr>\n",
       "      <th>1</th>\n",
       "      <td>xho</td>\n",
       "      <td>i-dha iya kuba nobulumko bokubeka umsebenzi na...</td>\n",
       "      <td>i dha iya kuba nobulumko bokubeka umsebenzi na...</td>\n",
       "      <td>[i, dha, iya, kuba, nobulumko, bokubeka, umseb...</td>\n",
       "      <td>[i, dha, iya, kuba, nobulumko, bokubeka, umseb...</td>\n",
       "      <td>i dha iya kuba nobulumko bokubeka umsebenzi na...</td>\n",
       "      <td>31</td>\n",
       "      <td>2</td>\n",
       "    </tr>\n",
       "    <tr>\n",
       "      <th>2</th>\n",
       "      <td>eng</td>\n",
       "      <td>the province of kwazulu-natal department of tr...</td>\n",
       "      <td>the province of kwazulu natal department of tr...</td>\n",
       "      <td>[the, province, of, kwazulu, natal, department...</td>\n",
       "      <td>[the, province, of, kwazulu, natal, department...</td>\n",
       "      <td>the province of kwazulu natal department of tr...</td>\n",
       "      <td>37</td>\n",
       "      <td>1</td>\n",
       "    </tr>\n",
       "    <tr>\n",
       "      <th>3</th>\n",
       "      <td>nso</td>\n",
       "      <td>o netefatša gore o ba file dilo ka moka tše le...</td>\n",
       "      <td>o netefat a gore o ba file dilo ka moka t e le...</td>\n",
       "      <td>[o, netefat, a, gore, o, ba, file, dilo, ka, m...</td>\n",
       "      <td>[o, netefat, a, gore, o, ba, file, dilo, ka, m...</td>\n",
       "      <td>o netefat a gore o ba file dilo ka moka t e le...</td>\n",
       "      <td>40</td>\n",
       "      <td>4</td>\n",
       "    </tr>\n",
       "    <tr>\n",
       "      <th>4</th>\n",
       "      <td>ven</td>\n",
       "      <td>khomishini ya ndinganyiso ya mbeu yo ewa maana...</td>\n",
       "      <td>khomishini ya ndinganyiso ya mbeu yo ewa maana...</td>\n",
       "      <td>[khomishini, ya, ndinganyiso, ya, mbeu, yo, ew...</td>\n",
       "      <td>[khomishini, ya, ndinganyiso, ya, mbeu, yo, ew...</td>\n",
       "      <td>khomishini ya ndinganyiso ya mbeu yo ewa maana...</td>\n",
       "      <td>43</td>\n",
       "      <td>0</td>\n",
       "    </tr>\n",
       "  </tbody>\n",
       "</table>\n",
       "</div>"
      ],
      "text/plain": [
       "  lang_id                                               text  \\\n",
       "0     xho  umgaqo-siseko wenza amalungiselelo kumaziko ax...   \n",
       "1     xho  i-dha iya kuba nobulumko bokubeka umsebenzi na...   \n",
       "2     eng  the province of kwazulu-natal department of tr...   \n",
       "3     nso  o netefatša gore o ba file dilo ka moka tše le...   \n",
       "4     ven  khomishini ya ndinganyiso ya mbeu yo ewa maana...   \n",
       "\n",
       "                                          clean_text  \\\n",
       "0  umgaqo siseko wenza amalungiselelo kumaziko ax...   \n",
       "1  i dha iya kuba nobulumko bokubeka umsebenzi na...   \n",
       "2  the province of kwazulu natal department of tr...   \n",
       "3  o netefat a gore o ba file dilo ka moka t e le...   \n",
       "4  khomishini ya ndinganyiso ya mbeu yo ewa maana...   \n",
       "\n",
       "                                   tokenized_message  \\\n",
       "0  [umgaqo, siseko, wenza, amalungiselelo, kumazi...   \n",
       "1  [i, dha, iya, kuba, nobulumko, bokubeka, umseb...   \n",
       "2  [the, province, of, kwazulu, natal, department...   \n",
       "3  [o, netefat, a, gore, o, ba, file, dilo, ka, m...   \n",
       "4  [khomishini, ya, ndinganyiso, ya, mbeu, yo, ew...   \n",
       "\n",
       "                                               lemma  \\\n",
       "0  [umgaqo, siseko, wenza, amalungiselelo, kumazi...   \n",
       "1  [i, dha, iya, kuba, nobulumko, bokubeka, umseb...   \n",
       "2  [the, province, of, kwazulu, natal, department...   \n",
       "3  [o, netefat, a, gore, o, ba, file, dilo, ka, m...   \n",
       "4  [khomishini, ya, ndinganyiso, ya, mbeu, yo, ew...   \n",
       "\n",
       "                                 detokenized_message  Num_words_raw  \\\n",
       "0  umgaqo siseko wenza amalungiselelo kumaziko ax...             24   \n",
       "1  i dha iya kuba nobulumko bokubeka umsebenzi na...             31   \n",
       "2  the province of kwazulu natal department of tr...             37   \n",
       "3  o netefat a gore o ba file dilo ka moka t e le...             40   \n",
       "4  khomishini ya ndinganyiso ya mbeu yo ewa maana...             43   \n",
       "\n",
       "   difference_in_wordsNo  \n",
       "0                      1  \n",
       "1                      2  \n",
       "2                      1  \n",
       "3                      4  \n",
       "4                      0  "
      ]
     },
     "execution_count": 185,
     "metadata": {},
     "output_type": "execute_result"
    }
   ],
   "source": [
    "train_df.head()"
   ]
  },
  {
   "cell_type": "markdown",
   "metadata": {},
   "source": [
    "# 7. MODELING\n",
    "\n",
    "VECTORIZATION\n",
    "\n",
    "CountVectorizer to convert our dataset from text to numerical form."
   ]
  },
  {
   "cell_type": "code",
   "execution_count": 186,
   "metadata": {},
   "outputs": [],
   "source": [
    "#Assigning variables\n",
    "X_d = train_df['detokenized_message']\n",
    "y = train_df['lang_id']"
   ]
  },
  {
   "cell_type": "markdown",
   "metadata": {},
   "source": [
    "Text to numbers conversion"
   ]
  },
  {
   "cell_type": "code",
   "execution_count": 187,
   "metadata": {},
   "outputs": [],
   "source": [
    "from sklearn.feature_extraction.text import CountVectorizer\n",
    "cv = CountVectorizer()\n",
    "X = cv.fit_transform(X)\n",
    "#look at the shape"
   ]
  },
  {
   "cell_type": "code",
   "execution_count": 188,
   "metadata": {},
   "outputs": [],
   "source": [
    "from sklearn.feature_extraction.text import CountVectorizer, TfidfVectorizer\n",
    "#vector = TfidfVectorizer(sublinear_tf=True)\n",
    "vector = TfidfVectorizer(ngram_range=(1,2), min_df=2)\n",
    "X =vector.fit_transform(X_d)"
   ]
  },
  {
   "cell_type": "code",
   "execution_count": 189,
   "metadata": {},
   "outputs": [
    {
     "data": {
      "text/plain": [
       "(33000, 206310)"
      ]
     },
     "execution_count": 189,
     "metadata": {},
     "output_type": "execute_result"
    }
   ],
   "source": [
    "#look at the shape\n",
    "X.shape "
   ]
  },
  {
   "cell_type": "markdown",
   "metadata": {},
   "source": [
    "We use transform on the test dataset "
   ]
  },
  {
   "cell_type": "code",
   "execution_count": 190,
   "metadata": {},
   "outputs": [
    {
     "data": {
      "text/plain": [
       "(5682, 141958)"
      ]
     },
     "execution_count": 190,
     "metadata": {},
     "output_type": "execute_result"
    }
   ],
   "source": [
    "# The test data is transformed using transform()\n",
    "X_t = cv.transform(X_t)\n",
    "X_t.shape"
   ]
  },
  {
   "cell_type": "markdown",
   "metadata": {},
   "source": [
    "Train Test Splitting\n",
    "Creating the training set, for training the model"
   ]
  },
  {
   "cell_type": "code",
   "execution_count": 191,
   "metadata": {},
   "outputs": [],
   "source": [
    "x_train, x_test, y_train, y_test = train_test_split(X, y, test_size = 0.20, random_state=0)"
   ]
  },
  {
   "cell_type": "markdown",
   "metadata": {},
   "source": [
    "# 8. Model Training and Prediction\n",
    "\n",
    "Back to Table of Contents\n",
    "\n",
    "\n",
    "In this part we train our model uisng different models from the training set and later predict the output for the test set."
   ]
  },
  {
   "cell_type": "markdown",
   "metadata": {},
   "source": [
    "# NAIVE_BAYES algorithm"
   ]
  },
  {
   "cell_type": "code",
   "execution_count": 192,
   "metadata": {},
   "outputs": [
    {
     "name": "stdout",
     "output_type": "stream",
     "text": [
      "Accuracy is : 0.9992424242424243\n",
      "Report is :               precision    recall  f1-score   support\n",
      "\n",
      "         afr       1.00      1.00      1.00       587\n",
      "         eng       0.99      1.00      1.00       574\n",
      "         nbl       1.00      1.00      1.00       613\n",
      "         nso       1.00      1.00      1.00       570\n",
      "         sot       1.00      1.00      1.00       600\n",
      "         ssw       1.00      1.00      1.00       624\n",
      "         tsn       1.00      1.00      1.00       581\n",
      "         tso       1.00      1.00      1.00       597\n",
      "         ven       1.00      1.00      1.00       599\n",
      "         xho       1.00      1.00      1.00       621\n",
      "         zul       1.00      1.00      1.00       634\n",
      "\n",
      "    accuracy                           1.00      6600\n",
      "   macro avg       1.00      1.00      1.00      6600\n",
      "weighted avg       1.00      1.00      1.00      6600\n",
      "\n"
     ]
    }
   ],
   "source": [
    "from sklearn.naive_bayes import MultinomialNB\n",
    "model = MultinomialNB()\n",
    "\n",
    "#fitting the Naive_Bayes model\n",
    "model.fit(x_train, y_train)\n",
    "\n",
    "#predicting the y labels\n",
    "y_pred1 = model.predict(x_test)\n",
    "\n",
    "#metrics reporting\n",
    "acc = accuracy_score(y_test, y_pred1)\n",
    "\n",
    "report = classification_report(y_test,y_pred1)\n",
    "\n",
    "print(\"Accuracy is :\",acc)\n",
    "#print(\"Matrix is :\",cm)\n",
    "print(\"Report is :\",report)"
   ]
  },
  {
   "cell_type": "markdown",
   "metadata": {},
   "source": [
    "# Random Forest Regressor"
   ]
  },
  {
   "cell_type": "code",
   "execution_count": 193,
   "metadata": {},
   "outputs": [
    {
     "name": "stdout",
     "output_type": "stream",
     "text": [
      "Accuracy is : 0.9886363636363636\n",
      "Report is :               precision    recall  f1-score   support\n",
      "\n",
      "         afr       1.00      1.00      1.00       587\n",
      "         eng       0.99      1.00      1.00       574\n",
      "         nbl       0.98      0.95      0.97       613\n",
      "         nso       1.00      1.00      1.00       570\n",
      "         sot       1.00      1.00      1.00       600\n",
      "         ssw       0.98      0.98      0.98       624\n",
      "         tsn       1.00      1.00      1.00       581\n",
      "         tso       1.00      1.00      1.00       597\n",
      "         ven       1.00      1.00      1.00       599\n",
      "         xho       0.98      0.98      0.98       621\n",
      "         zul       0.95      0.97      0.96       634\n",
      "\n",
      "    accuracy                           0.99      6600\n",
      "   macro avg       0.99      0.99      0.99      6600\n",
      "weighted avg       0.99      0.99      0.99      6600\n",
      "\n"
     ]
    }
   ],
   "source": [
    "rf_clf = RandomForestClassifier(n_estimators=100) # Create Random Forest classifer object\n",
    "rf_clf.fit(x_train,y_train) # Fit/Train Random Forest Classifer on training set\n",
    "\n",
    "#predict y labels\n",
    "y_pred5 = rf_clf.predict(x_test)\n",
    "\n",
    "#metrics report\n",
    "acc = accuracy_score(y_test, y_pred5)\n",
    "\n",
    "report = classification_report(y_test,y_pred5)\n",
    "\n",
    "print(\"Accuracy is :\",acc)\n",
    "print(\"Report is :\",report)"
   ]
  },
  {
   "cell_type": "markdown",
   "metadata": {},
   "source": [
    "# BernoulliNB model"
   ]
  },
  {
   "cell_type": "code",
   "execution_count": 194,
   "metadata": {},
   "outputs": [
    {
     "name": "stdout",
     "output_type": "stream",
     "text": [
      "Accuracy is : 0.9965151515151515\n",
      "Report is :               precision    recall  f1-score   support\n",
      "\n",
      "         afr       1.00      1.00      1.00       587\n",
      "         eng       1.00      1.00      1.00       574\n",
      "         nbl       1.00      0.98      0.99       613\n",
      "         nso       1.00      1.00      1.00       570\n",
      "         sot       1.00      1.00      1.00       600\n",
      "         ssw       1.00      1.00      1.00       624\n",
      "         tsn       1.00      1.00      1.00       581\n",
      "         tso       1.00      1.00      1.00       597\n",
      "         ven       1.00      1.00      1.00       599\n",
      "         xho       1.00      1.00      1.00       621\n",
      "         zul       0.97      1.00      0.98       634\n",
      "\n",
      "    accuracy                           1.00      6600\n",
      "   macro avg       1.00      1.00      1.00      6600\n",
      "weighted avg       1.00      1.00      1.00      6600\n",
      "\n"
     ]
    }
   ],
   "source": [
    "BNBmodel = BernoulliNB()\n",
    "BNBmodel.fit(x_train, y_train)\n",
    "y_pred3 = BNBmodel.predict(x_test)\n",
    "\n",
    "#metrics report\n",
    "acc = accuracy_score(y_test, y_pred3)\n",
    "\n",
    "report = classification_report(y_test,y_pred3)\n",
    "\n",
    "print(\"Accuracy is :\",acc)\n",
    "print(\"Report is :\",report)"
   ]
  },
  {
   "cell_type": "markdown",
   "metadata": {},
   "source": [
    "# Logistics Regression"
   ]
  },
  {
   "cell_type": "code",
   "execution_count": 195,
   "metadata": {},
   "outputs": [
    {
     "name": "stdout",
     "output_type": "stream",
     "text": [
      "Accuracy is : 0.9971212121212121\n",
      "Report is :               precision    recall  f1-score   support\n",
      "\n",
      "         afr       1.00      1.00      1.00       587\n",
      "         eng       1.00      1.00      1.00       574\n",
      "         nbl       0.99      0.99      0.99       613\n",
      "         nso       1.00      1.00      1.00       570\n",
      "         sot       1.00      1.00      1.00       600\n",
      "         ssw       1.00      1.00      1.00       624\n",
      "         tsn       1.00      1.00      1.00       581\n",
      "         tso       1.00      1.00      1.00       597\n",
      "         ven       1.00      1.00      1.00       599\n",
      "         xho       1.00      0.99      1.00       621\n",
      "         zul       0.99      0.99      0.99       634\n",
      "\n",
      "    accuracy                           1.00      6600\n",
      "   macro avg       1.00      1.00      1.00      6600\n",
      "weighted avg       1.00      1.00      1.00      6600\n",
      "\n"
     ]
    }
   ],
   "source": [
    "LRmodel = LogisticRegression(C = 2, max_iter = 1000, n_jobs=-1)# Creating a logistics regression\n",
    "#fit the train data\n",
    "LRmodel.fit(x_train, y_train)\n",
    "#predict y labels\n",
    "y_pred2 = LRmodel.predict(x_test)\n",
    "\n",
    "#metrics report\n",
    "acc = accuracy_score(y_test, y_pred2)\n",
    "\n",
    "report = classification_report(y_test,y_pred2)\n",
    "\n",
    "print(\"Accuracy is :\",acc)\n",
    "print(\"Report is :\",report)"
   ]
  },
  {
   "cell_type": "markdown",
   "metadata": {},
   "source": [
    "# Support Vector Classifier"
   ]
  },
  {
   "cell_type": "code",
   "execution_count": 196,
   "metadata": {},
   "outputs": [
    {
     "name": "stdout",
     "output_type": "stream",
     "text": [
      "Accuracy is : 0.9968181818181818\n",
      "Report is :               precision    recall  f1-score   support\n",
      "\n",
      "         afr       1.00      1.00      1.00       587\n",
      "         eng       1.00      1.00      1.00       574\n",
      "         nbl       0.99      0.99      0.99       613\n",
      "         nso       1.00      1.00      1.00       570\n",
      "         sot       1.00      0.99      1.00       600\n",
      "         ssw       1.00      1.00      1.00       624\n",
      "         tsn       1.00      1.00      1.00       581\n",
      "         tso       1.00      1.00      1.00       597\n",
      "         ven       1.00      1.00      1.00       599\n",
      "         xho       1.00      1.00      1.00       621\n",
      "         zul       0.99      0.99      0.99       634\n",
      "\n",
      "    accuracy                           1.00      6600\n",
      "   macro avg       1.00      1.00      1.00      6600\n",
      "weighted avg       1.00      1.00      1.00      6600\n",
      "\n"
     ]
    }
   ],
   "source": [
    "from sklearn.svm import SVC\n",
    "\n",
    "svc = SVC( kernel='rbf')\n",
    "svc.fit(x_train, y_train)\n",
    "y_pred4 = svc.predict(x_test)\n",
    "\n",
    "#metrics report\n",
    "acc = accuracy_score(y_test, y_pred4)\n",
    "report = classification_report(y_test,y_pred4)\n",
    "\n",
    "print(\"Accuracy is :\",acc)\n",
    "print(\"Report is :\",report)"
   ]
  },
  {
   "cell_type": "markdown",
   "metadata": {},
   "source": [
    "# Passive Aggresive Classifier"
   ]
  },
  {
   "cell_type": "code",
   "execution_count": 197,
   "metadata": {},
   "outputs": [
    {
     "name": "stdout",
     "output_type": "stream",
     "text": [
      "Accuracy is : 0.9975757575757576\n",
      "Report is :               precision    recall  f1-score   support\n",
      "\n",
      "         afr       1.00      1.00      1.00       585\n",
      "         eng       1.00      1.00      1.00       621\n",
      "         nbl       1.00      0.99      0.99       576\n",
      "         nso       1.00      1.00      1.00       611\n",
      "         sot       1.00      1.00      1.00       580\n",
      "         ssw       1.00      0.99      1.00       594\n",
      "         tsn       0.99      1.00      1.00       584\n",
      "         tso       1.00      1.00      1.00       656\n",
      "         ven       1.00      1.00      1.00       615\n",
      "         xho       0.99      1.00      1.00       597\n",
      "         zul       0.99      0.99      0.99       581\n",
      "\n",
      "    accuracy                           1.00      6600\n",
      "   macro avg       1.00      1.00      1.00      6600\n",
      "weighted avg       1.00      1.00      1.00      6600\n",
      "\n"
     ]
    }
   ],
   "source": [
    "from sklearn.linear_model import PassiveAggressiveClassifier,LogisticRegression\n",
    "\n",
    "from sklearn.feature_extraction.text import TfidfVectorizer\n",
    "tfidf_vectorizer = TfidfVectorizer(stop_words='english', max_df=0.8)\n",
    "X = tfidf_vectorizer.fit_transform(train_df['text'])\n",
    "X_t = tfidf_vectorizer.transform(test_df['text'])\n",
    "Y = train_df.lang_id\n",
    "X_train, X_test, Y_train, Y_test = train_test_split(X, Y, test_size = 0.20)\n",
    "\n",
    "pass_tf = PassiveAggressiveClassifier()\n",
    "pass_tf.fit(X_train, Y_train)\n",
    "pred = pass_tf.predict(X_test)\n",
    "\n",
    "\n",
    "acc = accuracy_score(Y_test, pred)#metrics reporting\n",
    "report = classification_report(Y_test,pred)\n",
    "\n",
    "print(\"Accuracy is :\",acc)\n",
    "print(\"Report is :\",report)"
   ]
  },
  {
   "cell_type": "markdown",
   "metadata": {},
   "source": [
    "# 9. Model Evaluation\n",
    "\n",
    "Back to Table of Contents"
   ]
  },
  {
   "cell_type": "code",
   "execution_count": 198,
   "metadata": {},
   "outputs": [],
   "source": [
    "names = ['MultinomialNB', 'Random Forest',\n",
    "         'LogisticRegression', 'BernoulliNB','SVC','PassiveAggressiveClassifier'\n",
    "         ]"
   ]
  },
  {
   "cell_type": "code",
   "execution_count": 199,
   "metadata": {},
   "outputs": [],
   "source": [
    "classifiers = [\n",
    "    MultinomialNB(),\n",
    "    RandomForestClassifier(n_estimators=100),\n",
    "    LogisticRegression(C = 2, max_iter = 1000, n_jobs=-1),\n",
    "    BernoulliNB(),\n",
    "    SVC(kernel='rbf'),\n",
    "    PassiveAggressiveClassifier() \n",
    "    ]"
   ]
  },
  {
   "cell_type": "code",
   "execution_count": 200,
   "metadata": {},
   "outputs": [
    {
     "name": "stdout",
     "output_type": "stream",
     "text": [
      "Fitting MultinomialNB model...\n",
      "... predicting\n",
      "... scoring\n",
      "Fitting Random Forest model...\n",
      "... predicting\n",
      "... scoring\n",
      "Fitting LogisticRegression model...\n",
      "... predicting\n",
      "... scoring\n",
      "Fitting BernoulliNB model...\n",
      "... predicting\n",
      "... scoring\n",
      "Fitting SVC model...\n",
      "... predicting\n",
      "... scoring\n",
      "Fitting PassiveAggressiveClassifier model...\n",
      "... predicting\n",
      "... scoring\n",
      "... All done!\n"
     ]
    }
   ],
   "source": [
    "from sklearn import metrics\n",
    "results = []\n",
    "\n",
    "models = {}\n",
    "confusion = {}\n",
    "class_report = {}\n",
    "\n",
    "\n",
    "for name, clf in zip(names, classifiers):\n",
    "    print ('Fitting {:s} model...'.format(name))\n",
    "    run_time = %timeit -q -o clf.fit(x_train, y_train)\n",
    "\n",
    "    print ('... predicting')\n",
    "    y_pred = clf.predict(x_train)\n",
    "    y_pred_test = clf.predict(x_test)\n",
    "\n",
    "    print ('... scoring')\n",
    "    accuracy  = metrics.accuracy_score(y_train, y_pred)\n",
    "    precision = metrics.precision_score(y_train, y_pred, average='weighted')\n",
    "    recall    = metrics.recall_score(y_train, y_pred, average='weighted')\n",
    "\n",
    "    f1        = metrics.f1_score(y_train, y_pred, average='weighted')\n",
    "    f1_test   = metrics.f1_score(y_test, y_pred_test, average='weighted')\n",
    "\n",
    "    # Save the results to dictionaries\n",
    "    models[name] = clf\n",
    "    confusion[name] = metrics.confusion_matrix(y_train, y_pred)\n",
    "    class_report[name] = metrics.classification_report(y_train, y_pred)\n",
    "\n",
    "    results.append([name, accuracy, precision, recall, f1, f1_test, run_time.best])\n",
    "\n",
    "\n",
    "results = pd.DataFrame(results, columns=['Classifier', 'Accuracy', 'Precision', 'Recall', 'F1 Train', 'F1 Test', 'Train Time'])\n",
    "results.set_index('Classifier', inplace= True)\n",
    "\n",
    "print ('... All done!')"
   ]
  },
  {
   "cell_type": "markdown",
   "metadata": {},
   "source": [
    "# Results"
   ]
  },
  {
   "cell_type": "code",
   "execution_count": 201,
   "metadata": {},
   "outputs": [
    {
     "data": {
      "text/html": [
       "<div>\n",
       "<style scoped>\n",
       "    .dataframe tbody tr th:only-of-type {\n",
       "        vertical-align: middle;\n",
       "    }\n",
       "\n",
       "    .dataframe tbody tr th {\n",
       "        vertical-align: top;\n",
       "    }\n",
       "\n",
       "    .dataframe thead th {\n",
       "        text-align: right;\n",
       "    }\n",
       "</style>\n",
       "<table border=\"1\" class=\"dataframe\">\n",
       "  <thead>\n",
       "    <tr style=\"text-align: right;\">\n",
       "      <th></th>\n",
       "      <th>Accuracy</th>\n",
       "      <th>Precision</th>\n",
       "      <th>Recall</th>\n",
       "      <th>F1 Train</th>\n",
       "      <th>F1 Test</th>\n",
       "      <th>Train Time</th>\n",
       "    </tr>\n",
       "    <tr>\n",
       "      <th>Classifier</th>\n",
       "      <th></th>\n",
       "      <th></th>\n",
       "      <th></th>\n",
       "      <th></th>\n",
       "      <th></th>\n",
       "      <th></th>\n",
       "    </tr>\n",
       "  </thead>\n",
       "  <tbody>\n",
       "    <tr>\n",
       "      <th>Random Forest</th>\n",
       "      <td>1.000000</td>\n",
       "      <td>1.000000</td>\n",
       "      <td>1.000000</td>\n",
       "      <td>1.000000</td>\n",
       "      <td>0.988785</td>\n",
       "      <td>96.563103</td>\n",
       "    </tr>\n",
       "    <tr>\n",
       "      <th>SVC</th>\n",
       "      <td>1.000000</td>\n",
       "      <td>1.000000</td>\n",
       "      <td>1.000000</td>\n",
       "      <td>1.000000</td>\n",
       "      <td>0.996820</td>\n",
       "      <td>182.867330</td>\n",
       "    </tr>\n",
       "    <tr>\n",
       "      <th>PassiveAggressiveClassifier</th>\n",
       "      <td>1.000000</td>\n",
       "      <td>1.000000</td>\n",
       "      <td>1.000000</td>\n",
       "      <td>1.000000</td>\n",
       "      <td>0.997577</td>\n",
       "      <td>0.686808</td>\n",
       "    </tr>\n",
       "    <tr>\n",
       "      <th>LogisticRegression</th>\n",
       "      <td>0.999886</td>\n",
       "      <td>0.999886</td>\n",
       "      <td>0.999886</td>\n",
       "      <td>0.999886</td>\n",
       "      <td>0.997122</td>\n",
       "      <td>54.645285</td>\n",
       "    </tr>\n",
       "    <tr>\n",
       "      <th>MultinomialNB</th>\n",
       "      <td>0.999697</td>\n",
       "      <td>0.999698</td>\n",
       "      <td>0.999697</td>\n",
       "      <td>0.999697</td>\n",
       "      <td>0.999243</td>\n",
       "      <td>0.150177</td>\n",
       "    </tr>\n",
       "    <tr>\n",
       "      <th>BernoulliNB</th>\n",
       "      <td>0.999205</td>\n",
       "      <td>0.999210</td>\n",
       "      <td>0.999205</td>\n",
       "      <td>0.999205</td>\n",
       "      <td>0.996527</td>\n",
       "      <td>0.151959</td>\n",
       "    </tr>\n",
       "  </tbody>\n",
       "</table>\n",
       "</div>"
      ],
      "text/plain": [
       "                             Accuracy  Precision    Recall  F1 Train  \\\n",
       "Classifier                                                             \n",
       "Random Forest                1.000000   1.000000  1.000000  1.000000   \n",
       "SVC                          1.000000   1.000000  1.000000  1.000000   \n",
       "PassiveAggressiveClassifier  1.000000   1.000000  1.000000  1.000000   \n",
       "LogisticRegression           0.999886   0.999886  0.999886  0.999886   \n",
       "MultinomialNB                0.999697   0.999698  0.999697  0.999697   \n",
       "BernoulliNB                  0.999205   0.999210  0.999205  0.999205   \n",
       "\n",
       "                              F1 Test  Train Time  \n",
       "Classifier                                         \n",
       "Random Forest                0.988785   96.563103  \n",
       "SVC                          0.996820  182.867330  \n",
       "PassiveAggressiveClassifier  0.997577    0.686808  \n",
       "LogisticRegression           0.997122   54.645285  \n",
       "MultinomialNB                0.999243    0.150177  \n",
       "BernoulliNB                  0.996527    0.151959  "
      ]
     },
     "execution_count": 201,
     "metadata": {},
     "output_type": "execute_result"
    }
   ],
   "source": [
    "results.sort_values('F1 Train', ascending=False)"
   ]
  },
  {
   "cell_type": "markdown",
   "metadata": {},
   "source": [
    "# Graph to compare the different metrics"
   ]
  },
  {
   "cell_type": "code",
   "execution_count": null,
   "metadata": {},
   "outputs": [],
   "source": [
    "fig, ax = plt.subplots(1, 2, figsize=(10, 5))\n",
    "results.sort_values('F1 Train', ascending=False, inplace=True)\n",
    "results.plot(y=['F1 Test'], kind='bar', ax=ax[0], xlim=[0,1.1], ylim=[0.70,1.00])\n",
    "results.plot(y='Train Time', kind='bar', ax=ax[1])"
   ]
  },
  {
   "cell_type": "markdown",
   "metadata": {},
   "source": [
    "Back to Table of Contents\n",
    "\n",
    "\n",
    "1 The random forest model took a long to fit the data and performed least.\n",
    "\n",
    "2 Multinormal Naive Bayes took the shorter time to fit data.\n",
    "\n",
    "3 BernoulliNB performed the best and took very little time.\n",
    "\n",
    "To comprehend the performance of the BernoulliNB model we'll look at the confusion matricx and classification report results"
   ]
  },
  {
   "cell_type": "code",
   "execution_count": null,
   "metadata": {},
   "outputs": [],
   "source": [
    "confusion['BernoulliNB']"
   ]
  },
  {
   "cell_type": "markdown",
   "metadata": {},
   "source": [
    "# The accuracy of the LogisticRegression model is the best at 0.9998 indicating our model is performing well."
   ]
  },
  {
   "cell_type": "code",
   "execution_count": null,
   "metadata": {},
   "outputs": [],
   "source": [
    "plt.figure(figsize=(15,10))\n",
    "sns.heatmap(confusion['BernoulliNB'], annot = True)\n",
    "plt.show()"
   ]
  },
  {
   "cell_type": "markdown",
   "metadata": {},
   "source": [
    "# Predictions with the test dataset"
   ]
  },
  {
   "cell_type": "code",
   "execution_count": null,
   "metadata": {},
   "outputs": [],
   "source": [
    "X_t.shape"
   ]
  },
  {
   "cell_type": "code",
   "execution_count": null,
   "metadata": {},
   "outputs": [],
   "source": [
    "text_pred= BNBmodel.predict(X_t)"
   ]
  },
  {
   "cell_type": "markdown",
   "metadata": {},
   "source": [
    "predictions for kaggle."
   ]
  },
  {
   "cell_type": "code",
   "execution_count": null,
   "metadata": {},
   "outputs": [],
   "source": [
    "\n",
    "kaggle_bnb = test_set[['index']]\n",
    "kaggle_bnb['lang_id']= text_pred\n",
    "kaggle_bnb.to_csv('NLPclassification.csv', index = None)"
   ]
  },
  {
   "cell_type": "code",
   "execution_count": null,
   "metadata": {},
   "outputs": [],
   "source": [
    "read_file('NLPclassification.csv')"
   ]
  },
  {
   "cell_type": "markdown",
   "metadata": {},
   "source": [
    "# 10. Conclusion"
   ]
  },
  {
   "cell_type": "code",
   "execution_count": null,
   "metadata": {},
   "outputs": [],
   "source": [
    "\n",
    "The data was examined and appropriately prepared.\n",
    "I represented  textual data using a bag of words model, for example.\n",
    "In order to make accurate predictions in NLP, text extraction and vectorization are crucial tasks.\n",
    "Since BernoulliNB has been shown to be a superior language model, more precise findings have been obtained.\n",
    "\n",
    "\n",
    "\n"
   ]
  },
  {
   "cell_type": "code",
   "execution_count": null,
   "metadata": {},
   "outputs": [],
   "source": []
  }
 ],
 "metadata": {
  "kernelspec": {
   "display_name": "Python 3 (ipykernel)",
   "language": "python",
   "name": "python3"
  },
  "language_info": {
   "codemirror_mode": {
    "name": "ipython",
    "version": 3
   },
   "file_extension": ".py",
   "mimetype": "text/x-python",
   "name": "python",
   "nbconvert_exporter": "python",
   "pygments_lexer": "ipython3",
   "version": "3.9.13"
  }
 },
 "nbformat": 4,
 "nbformat_minor": 4
}
